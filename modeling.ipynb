{
 "cells": [
  {
   "cell_type": "code",
   "execution_count": 131,
   "metadata": {},
   "outputs": [],
   "source": [
    "import numpy as np\n",
    "import pandas as pd\n",
    "import matplotlib.pyplot as plt\n",
    "from sklearn.model_selection import train_test_split, GridSearchCV\n",
    "from sklearn.metrics import precision_score, recall_score, precision_recall_curve,f1_score, confusion_matrix, accuracy_score\n",
    "from sklearn.linear_model import LogisticRegression\n",
    "from sklearn.neighbors import KNeighborsClassifier\n",
    "from sklearn.tree import DecisionTreeClassifier\n",
    "from sklearn.naive_bayes import GaussianNB\n",
    "from sklearn.ensemble import RandomForestClassifier\n",
    "from sklearn.ensemble import VotingClassifier\n",
    "from mlxtend.classifier import StackingClassifier \n",
    "import xgboost as xgb"
   ]
  },
  {
   "cell_type": "markdown",
   "metadata": {},
   "source": [
    "### First Let's load our data.\n",
    "Starting with the smallest dataset for simplicity"
   ]
  },
  {
   "cell_type": "code",
   "execution_count": 52,
   "metadata": {},
   "outputs": [
    {
     "name": "stdout",
     "output_type": "stream",
     "text": [
      "(150000, 20)\n",
      "(150000,)\n"
     ]
    }
   ],
   "source": [
    "x = np.memmap('data/binary_data_20', mode='r', shape = (150000,20))\n",
    "# x = np.load('data/gray_data_20')\n",
    "y = np.memmap('data/image_target.npy', mode='r', shape = (150000,))\n",
    "x_test = np.memmap('data/test_binary_data_20.npy', mode='r', shape = (50000,20))\n",
    "y_test = np.memmap('data/test_target.npy', mode='r', shape = (50000))\n",
    "print(x.shape)\n",
    "print(y.shape)\n",
    "x = pd.DataFrame(x)\n",
    "y = pd.DataFrame(y)\n",
    "# y = y == 2\n",
    "# y = y.astype(int)\n",
    "# y_test = y_test == 2\n",
    "# y_test = y_test.astype(int)\n",
    "x = x/255\n",
    "x_test = x_test/255"
   ]
  },
  {
   "cell_type": "markdown",
   "metadata": {},
   "source": [
    "\"target_data\": {\n",
    "\"Inco\": 2, \n",
    "\"Teac\": 1, \n",
    "\"Cons\": 0, \n",
    "\"Publ\": 4, \n",
    "\"Econ\": 3}}"
   ]
  },
  {
   "cell_type": "code",
   "execution_count": 24,
   "metadata": {},
   "outputs": [
    {
     "name": "stdout",
     "output_type": "stream",
     "text": [
      "(120000, 20)\n",
      "(30000,)\n"
     ]
    }
   ],
   "source": [
    "X_train, X_val, y_train, y_val = train_test_split(x, y[0], test_size=0.2, stratify=y)\n",
    "print(X_train.shape)\n",
    "print(y_val.shape)"
   ]
  },
  {
   "cell_type": "markdown",
   "metadata": {},
   "source": [
    "## KNN\n",
    "K nearest neighbors\n",
    "\n",
    "~~~\n",
    "Accuracy:  0.218\n",
    "Precision:\t0.21878291972161956\n",
    "Recall:\t0.21799999999999997\n",
    "F1:\t0.2158672632176471\n",
    "array([[1658, 1364, 1110,  993,  875],\n",
    "       [1541, 1545, 1138,  965,  811],\n",
    "       [1557, 1340, 1286,  961,  856],\n",
    "       [1567, 1341, 1192, 1059,  841],\n",
    "       [1590, 1370, 1090,  958,  992]])\n",
    "~~~\n"
   ]
  },
  {
   "cell_type": "code",
   "execution_count": 54,
   "metadata": {},
   "outputs": [
    {
     "name": "stdout",
     "output_type": "stream",
     "text": [
      "Accuracy:\t0.1996\n",
      "Precision:\t0.19931270319214384\n",
      "Recall:\t0.1996\n",
      "F1:\t0.1965280228228304\n"
     ]
    },
    {
     "data": {
      "text/plain": [
       "array([[2776, 2239, 1888, 1696, 1401],\n",
       "       [2754, 2291, 1925, 1636, 1394],\n",
       "       [2748, 2378, 1924, 1596, 1354],\n",
       "       [2747, 2320, 1919, 1632, 1382],\n",
       "       [2700, 2357, 1985, 1601, 1357]])"
      ]
     },
     "execution_count": 54,
     "metadata": {},
     "output_type": "execute_result"
    }
   ],
   "source": [
    "knn = KNeighborsClassifier(n_neighbors=10, n_jobs=-1)\n",
    "knn.fit(X_train, y_train)\n",
    "y_pred = knn.predict(x_test,)\n",
    "print(f'Accuracy:\\t{accuracy_score(y_test, y_pred)}')\n",
    "print(f'Precision:\\t{precision_score(y_test, y_pred, average=\"macro\")}')\n",
    "print(f'Recall:\\t{recall_score(y_test, y_pred, average=\"macro\")}')\n",
    "print(f'F1:\\t{f1_score(y_test, y_pred, average=\"macro\")}')\n",
    "confusion_matrix(y_test, y_pred)"
   ]
  },
  {
   "cell_type": "markdown",
   "metadata": {},
   "source": [
    "## Logistic Regression\n",
    "\n",
    "~~~\n",
    "Accuracy:\t0.20534\n",
    "Precision:\t0.20556761017314962\n",
    "Recall:\t0.20534\n",
    "F1:\t0.20329858294811992\n",
    "array([[1883, 2415, 2303, 2030, 1369],\n",
    "       [1716, 2481, 2369, 2067, 1367],\n",
    "       [1721, 2372, 2430, 2124, 1353],\n",
    "       [1661, 2522, 2348, 2085, 1384],\n",
    "       [1718, 2400, 2401, 2093, 1388]])\n",
    "~~~\n"
   ]
  },
  {
   "cell_type": "code",
   "execution_count": 53,
   "metadata": {},
   "outputs": [
    {
     "name": "stdout",
     "output_type": "stream",
     "text": [
      "Accuracy:\t0.20528\n",
      "Precision:\t0.20550506520053274\n",
      "Recall:\t0.20528\n",
      "F1:\t0.20321277846670044\n"
     ]
    },
    {
     "data": {
      "text/plain": [
       "array([[1880, 2417, 2309, 2028, 1366],\n",
       "       [1714, 2484, 2373, 2065, 1364],\n",
       "       [1723, 2372, 2433, 2122, 1350],\n",
       "       [1657, 2527, 2352, 2082, 1382],\n",
       "       [1718, 2402, 2407, 2088, 1385]])"
      ]
     },
     "execution_count": 53,
     "metadata": {},
     "output_type": "execute_result"
    }
   ],
   "source": [
    "lr = LogisticRegression()\n",
    "lr.fit(X_train, y_train)\n",
    "y_pred = lr.predict(x_test,)\n",
    "print(f'Accuracy:\\t{accuracy_score(y_test, y_pred)}')\n",
    "print(f'Precision:\\t{precision_score(y_test, y_pred, average=\"macro\")}')\n",
    "print(f'Recall:\\t{recall_score(y_test, y_pred, average=\"macro\")}')\n",
    "print(f'F1:\\t{f1_score(y_test, y_pred, average=\"macro\")}')\n",
    "confusion_matrix(y_test, y_pred)"
   ]
  },
  {
   "cell_type": "code",
   "execution_count": 62,
   "metadata": {},
   "outputs": [
    {
     "data": {
      "text/plain": [
       "GridSearchCV(cv=3, estimator=LogisticRegression(),\n",
       "             param_grid={'C': array([1.e-03, 1.e-02, 1.e-01, 1.e+00, 1.e+01, 1.e+02, 1.e+03]),\n",
       "                         'penalty': ['l2'],\n",
       "                         'solver': ['liblinear', 'newton-cg']},\n",
       "             scoring='f1_macro')"
      ]
     },
     "execution_count": 62,
     "metadata": {},
     "output_type": "execute_result"
    }
   ],
   "source": [
    "grid={\"C\":np.logspace(-3,3,7), \"penalty\":[\"l2\"], \"solver\":['liblinear','newton-cg']}\n",
    "lr=LogisticRegression()\n",
    "lr_cv=GridSearchCV(lr,grid,cv=3,scoring='f1_macro')\n",
    "lr_cv.fit(X_train, y_train)"
   ]
  },
  {
   "cell_type": "code",
   "execution_count": 63,
   "metadata": {},
   "outputs": [
    {
     "data": {
      "text/html": [
       "<div>\n",
       "<style scoped>\n",
       "    .dataframe tbody tr th:only-of-type {\n",
       "        vertical-align: middle;\n",
       "    }\n",
       "\n",
       "    .dataframe tbody tr th {\n",
       "        vertical-align: top;\n",
       "    }\n",
       "\n",
       "    .dataframe thead th {\n",
       "        text-align: right;\n",
       "    }\n",
       "</style>\n",
       "<table border=\"1\" class=\"dataframe\">\n",
       "  <thead>\n",
       "    <tr style=\"text-align: right;\">\n",
       "      <th></th>\n",
       "      <th>mean_fit_time</th>\n",
       "      <th>std_fit_time</th>\n",
       "      <th>mean_score_time</th>\n",
       "      <th>std_score_time</th>\n",
       "      <th>param_C</th>\n",
       "      <th>param_penalty</th>\n",
       "      <th>param_solver</th>\n",
       "      <th>params</th>\n",
       "      <th>split0_test_score</th>\n",
       "      <th>split1_test_score</th>\n",
       "      <th>split2_test_score</th>\n",
       "      <th>mean_test_score</th>\n",
       "      <th>std_test_score</th>\n",
       "      <th>rank_test_score</th>\n",
       "    </tr>\n",
       "  </thead>\n",
       "  <tbody>\n",
       "    <tr>\n",
       "      <th>7</th>\n",
       "      <td>1.112077</td>\n",
       "      <td>0.023904</td>\n",
       "      <td>0.020377</td>\n",
       "      <td>0.002034</td>\n",
       "      <td>1.0</td>\n",
       "      <td>l2</td>\n",
       "      <td>newton-cg</td>\n",
       "      <td>{'C': 1.0, 'penalty': 'l2', 'solver': 'newton-...</td>\n",
       "      <td>0.211422</td>\n",
       "      <td>0.210367</td>\n",
       "      <td>0.211398</td>\n",
       "      <td>0.211063</td>\n",
       "      <td>0.000492</td>\n",
       "      <td>1</td>\n",
       "    </tr>\n",
       "    <tr>\n",
       "      <th>9</th>\n",
       "      <td>1.244832</td>\n",
       "      <td>0.128890</td>\n",
       "      <td>0.022958</td>\n",
       "      <td>0.001139</td>\n",
       "      <td>10.0</td>\n",
       "      <td>l2</td>\n",
       "      <td>newton-cg</td>\n",
       "      <td>{'C': 10.0, 'penalty': 'l2', 'solver': 'newton...</td>\n",
       "      <td>0.211422</td>\n",
       "      <td>0.210367</td>\n",
       "      <td>0.211375</td>\n",
       "      <td>0.211055</td>\n",
       "      <td>0.000487</td>\n",
       "      <td>2</td>\n",
       "    </tr>\n",
       "    <tr>\n",
       "      <th>11</th>\n",
       "      <td>1.018942</td>\n",
       "      <td>0.099774</td>\n",
       "      <td>0.019082</td>\n",
       "      <td>0.001488</td>\n",
       "      <td>100.0</td>\n",
       "      <td>l2</td>\n",
       "      <td>newton-cg</td>\n",
       "      <td>{'C': 100.0, 'penalty': 'l2', 'solver': 'newto...</td>\n",
       "      <td>0.211422</td>\n",
       "      <td>0.210367</td>\n",
       "      <td>0.211375</td>\n",
       "      <td>0.211055</td>\n",
       "      <td>0.000487</td>\n",
       "      <td>2</td>\n",
       "    </tr>\n",
       "    <tr>\n",
       "      <th>13</th>\n",
       "      <td>1.055137</td>\n",
       "      <td>0.020630</td>\n",
       "      <td>0.020475</td>\n",
       "      <td>0.001419</td>\n",
       "      <td>1000.0</td>\n",
       "      <td>l2</td>\n",
       "      <td>newton-cg</td>\n",
       "      <td>{'C': 1000.0, 'penalty': 'l2', 'solver': 'newt...</td>\n",
       "      <td>0.211422</td>\n",
       "      <td>0.210367</td>\n",
       "      <td>0.211375</td>\n",
       "      <td>0.211055</td>\n",
       "      <td>0.000487</td>\n",
       "      <td>2</td>\n",
       "    </tr>\n",
       "    <tr>\n",
       "      <th>4</th>\n",
       "      <td>1.603447</td>\n",
       "      <td>0.067098</td>\n",
       "      <td>0.019443</td>\n",
       "      <td>0.001734</td>\n",
       "      <td>0.1</td>\n",
       "      <td>l2</td>\n",
       "      <td>liblinear</td>\n",
       "      <td>{'C': 0.1, 'penalty': 'l2', 'solver': 'libline...</td>\n",
       "      <td>0.211364</td>\n",
       "      <td>0.210387</td>\n",
       "      <td>0.211387</td>\n",
       "      <td>0.211046</td>\n",
       "      <td>0.000466</td>\n",
       "      <td>5</td>\n",
       "    </tr>\n",
       "  </tbody>\n",
       "</table>\n",
       "</div>"
      ],
      "text/plain": [
       "    mean_fit_time  std_fit_time  mean_score_time  std_score_time param_C  \\\n",
       "7        1.112077      0.023904         0.020377        0.002034     1.0   \n",
       "9        1.244832      0.128890         0.022958        0.001139    10.0   \n",
       "11       1.018942      0.099774         0.019082        0.001488   100.0   \n",
       "13       1.055137      0.020630         0.020475        0.001419  1000.0   \n",
       "4        1.603447      0.067098         0.019443        0.001734     0.1   \n",
       "\n",
       "   param_penalty param_solver  \\\n",
       "7             l2    newton-cg   \n",
       "9             l2    newton-cg   \n",
       "11            l2    newton-cg   \n",
       "13            l2    newton-cg   \n",
       "4             l2    liblinear   \n",
       "\n",
       "                                               params  split0_test_score  \\\n",
       "7   {'C': 1.0, 'penalty': 'l2', 'solver': 'newton-...           0.211422   \n",
       "9   {'C': 10.0, 'penalty': 'l2', 'solver': 'newton...           0.211422   \n",
       "11  {'C': 100.0, 'penalty': 'l2', 'solver': 'newto...           0.211422   \n",
       "13  {'C': 1000.0, 'penalty': 'l2', 'solver': 'newt...           0.211422   \n",
       "4   {'C': 0.1, 'penalty': 'l2', 'solver': 'libline...           0.211364   \n",
       "\n",
       "    split1_test_score  split2_test_score  mean_test_score  std_test_score  \\\n",
       "7            0.210367           0.211398         0.211063        0.000492   \n",
       "9            0.210367           0.211375         0.211055        0.000487   \n",
       "11           0.210367           0.211375         0.211055        0.000487   \n",
       "13           0.210367           0.211375         0.211055        0.000487   \n",
       "4            0.210387           0.211387         0.211046        0.000466   \n",
       "\n",
       "    rank_test_score  \n",
       "7                 1  \n",
       "9                 2  \n",
       "11                2  \n",
       "13                2  \n",
       "4                 5  "
      ]
     },
     "execution_count": 63,
     "metadata": {},
     "output_type": "execute_result"
    }
   ],
   "source": [
    "res = pd.DataFrame(lr_cv.cv_results_)\n",
    "res.sort_values(by='rank_test_score', ascending=True).head()"
   ]
  },
  {
   "cell_type": "code",
   "execution_count": 65,
   "metadata": {},
   "outputs": [
    {
     "name": "stdout",
     "output_type": "stream",
     "text": [
      "Accuracy:\t0.20534\n",
      "Precision:\t0.20556761017314962\n",
      "Recall:\t0.20534\n",
      "F1:\t0.20329858294811992\n"
     ]
    },
    {
     "data": {
      "text/plain": [
       "array([[1883, 2415, 2303, 2030, 1369],\n",
       "       [1716, 2481, 2369, 2067, 1367],\n",
       "       [1721, 2372, 2430, 2124, 1353],\n",
       "       [1661, 2522, 2348, 2085, 1384],\n",
       "       [1718, 2400, 2401, 2093, 1388]])"
      ]
     },
     "execution_count": 65,
     "metadata": {},
     "output_type": "execute_result"
    }
   ],
   "source": [
    "lr = LogisticRegression(C=1,penalty='l2',solver='newton-cg')\n",
    "lr.fit(X_train, y_train)\n",
    "y_pred = lr.predict(x_test,)\n",
    "print(f'Accuracy:\\t{accuracy_score(y_test, y_pred)}')\n",
    "print(f'Precision:\\t{precision_score(y_test, y_pred, average=\"macro\")}')\n",
    "print(f'Recall:\\t{recall_score(y_test, y_pred, average=\"macro\")}')\n",
    "print(f'F1:\\t{f1_score(y_test, y_pred, average=\"macro\")}')\n",
    "confusion_matrix(y_test, y_pred)"
   ]
  },
  {
   "cell_type": "markdown",
   "metadata": {},
   "source": [
    "## Decision Tree\n",
    "\n",
    "~~~\n",
    "Accuracy:\t0.20046\n",
    "Precision:\t0.20043461791314954\n",
    "Recall:\t0.20046\n",
    "F1:\t0.20025358642806665\n",
    "array([[2236, 2066, 2003, 1891, 1804],\n",
    "       [2183, 2051, 1982, 1969, 1815],\n",
    "       [2319, 1968, 1953, 1921, 1839],\n",
    "       [2110, 2065, 2062, 1937, 1826],\n",
    "       [2149, 2070, 2005, 1930, 1846]])\n",
    "~~~\n"
   ]
  },
  {
   "cell_type": "code",
   "execution_count": 68,
   "metadata": {},
   "outputs": [
    {
     "name": "stdout",
     "output_type": "stream",
     "text": [
      "Accuracy:\t0.19902\n",
      "Precision:\t0.199024020898689\n",
      "Recall:\t0.19902000000000003\n",
      "F1:\t0.19901975195168667\n"
     ]
    },
    {
     "data": {
      "text/plain": [
       "array([[1976, 2006, 1985, 2014, 2019],\n",
       "       [1995, 1974, 2008, 2058, 1965],\n",
       "       [1966, 2011, 2043, 1990, 1990],\n",
       "       [1998, 2006, 1917, 1988, 2091],\n",
       "       [1985, 1930, 2068, 2047, 1970]])"
      ]
     },
     "execution_count": 68,
     "metadata": {},
     "output_type": "execute_result"
    }
   ],
   "source": [
    "dt = DecisionTreeClassifier()\n",
    "dt.fit(X_train, y_train)\n",
    "y_pred = dt.predict(x_test,)\n",
    "print(f'Accuracy:\\t{accuracy_score(y_test, y_pred)}')\n",
    "print(f'Precision:\\t{precision_score(y_test, y_pred, average=\"macro\")}')\n",
    "print(f'Recall:\\t{recall_score(y_test, y_pred, average=\"macro\")}')\n",
    "print(f'F1:\\t{f1_score(y_test, y_pred, average=\"macro\")}')\n",
    "confusion_matrix(y_test, y_pred)"
   ]
  },
  {
   "cell_type": "code",
   "execution_count": 74,
   "metadata": {},
   "outputs": [
    {
     "data": {
      "text/plain": [
       "GridSearchCV(cv=3, estimator=DecisionTreeClassifier(),\n",
       "             param_grid={'criterion': ['gini', 'entropy'],\n",
       "                         'min_samples_split': [2, 6, 14, 32, 64],\n",
       "                         'random_state': [42, None]},\n",
       "             scoring='f1_macro')"
      ]
     },
     "execution_count": 74,
     "metadata": {},
     "output_type": "execute_result"
    }
   ],
   "source": [
    "grid={\"criterion\":[\"gini\",'entropy'],'min_samples_split':[2,6,14,32,64], 'random_state':[42, None] }\n",
    "dt=DecisionTreeClassifier()\n",
    "dt_cv=GridSearchCV(dt,grid,cv=3,scoring='f1_macro')\n",
    "dt_cv.fit(X_train, y_train)"
   ]
  },
  {
   "cell_type": "code",
   "execution_count": 75,
   "metadata": {},
   "outputs": [
    {
     "data": {
      "text/html": [
       "<div>\n",
       "<style scoped>\n",
       "    .dataframe tbody tr th:only-of-type {\n",
       "        vertical-align: middle;\n",
       "    }\n",
       "\n",
       "    .dataframe tbody tr th {\n",
       "        vertical-align: top;\n",
       "    }\n",
       "\n",
       "    .dataframe thead th {\n",
       "        text-align: right;\n",
       "    }\n",
       "</style>\n",
       "<table border=\"1\" class=\"dataframe\">\n",
       "  <thead>\n",
       "    <tr style=\"text-align: right;\">\n",
       "      <th></th>\n",
       "      <th>mean_fit_time</th>\n",
       "      <th>std_fit_time</th>\n",
       "      <th>mean_score_time</th>\n",
       "      <th>std_score_time</th>\n",
       "      <th>param_criterion</th>\n",
       "      <th>param_min_samples_split</th>\n",
       "      <th>param_random_state</th>\n",
       "      <th>params</th>\n",
       "      <th>split0_test_score</th>\n",
       "      <th>split1_test_score</th>\n",
       "      <th>split2_test_score</th>\n",
       "      <th>mean_test_score</th>\n",
       "      <th>std_test_score</th>\n",
       "      <th>rank_test_score</th>\n",
       "    </tr>\n",
       "  </thead>\n",
       "  <tbody>\n",
       "    <tr>\n",
       "      <th>0</th>\n",
       "      <td>2.550681</td>\n",
       "      <td>0.081907</td>\n",
       "      <td>0.029533</td>\n",
       "      <td>0.002559</td>\n",
       "      <td>gini</td>\n",
       "      <td>2</td>\n",
       "      <td>42</td>\n",
       "      <td>{'criterion': 'gini', 'min_samples_split': 2, ...</td>\n",
       "      <td>0.214716</td>\n",
       "      <td>0.216214</td>\n",
       "      <td>0.217456</td>\n",
       "      <td>0.216128</td>\n",
       "      <td>0.001120</td>\n",
       "      <td>1</td>\n",
       "    </tr>\n",
       "    <tr>\n",
       "      <th>1</th>\n",
       "      <td>2.721425</td>\n",
       "      <td>0.208265</td>\n",
       "      <td>0.032089</td>\n",
       "      <td>0.003546</td>\n",
       "      <td>gini</td>\n",
       "      <td>2</td>\n",
       "      <td>None</td>\n",
       "      <td>{'criterion': 'gini', 'min_samples_split': 2, ...</td>\n",
       "      <td>0.217047</td>\n",
       "      <td>0.213960</td>\n",
       "      <td>0.217119</td>\n",
       "      <td>0.216042</td>\n",
       "      <td>0.001472</td>\n",
       "      <td>2</td>\n",
       "    </tr>\n",
       "    <tr>\n",
       "      <th>12</th>\n",
       "      <td>3.708585</td>\n",
       "      <td>0.046757</td>\n",
       "      <td>0.031218</td>\n",
       "      <td>0.002523</td>\n",
       "      <td>entropy</td>\n",
       "      <td>6</td>\n",
       "      <td>42</td>\n",
       "      <td>{'criterion': 'entropy', 'min_samples_split': ...</td>\n",
       "      <td>0.217093</td>\n",
       "      <td>0.212089</td>\n",
       "      <td>0.218641</td>\n",
       "      <td>0.215941</td>\n",
       "      <td>0.002796</td>\n",
       "      <td>3</td>\n",
       "    </tr>\n",
       "    <tr>\n",
       "      <th>15</th>\n",
       "      <td>3.489973</td>\n",
       "      <td>0.109457</td>\n",
       "      <td>0.030265</td>\n",
       "      <td>0.000409</td>\n",
       "      <td>entropy</td>\n",
       "      <td>14</td>\n",
       "      <td>None</td>\n",
       "      <td>{'criterion': 'entropy', 'min_samples_split': ...</td>\n",
       "      <td>0.214798</td>\n",
       "      <td>0.213864</td>\n",
       "      <td>0.218960</td>\n",
       "      <td>0.215874</td>\n",
       "      <td>0.002215</td>\n",
       "      <td>4</td>\n",
       "    </tr>\n",
       "    <tr>\n",
       "      <th>14</th>\n",
       "      <td>3.453665</td>\n",
       "      <td>0.101807</td>\n",
       "      <td>0.029545</td>\n",
       "      <td>0.002062</td>\n",
       "      <td>entropy</td>\n",
       "      <td>14</td>\n",
       "      <td>42</td>\n",
       "      <td>{'criterion': 'entropy', 'min_samples_split': ...</td>\n",
       "      <td>0.215472</td>\n",
       "      <td>0.213849</td>\n",
       "      <td>0.218251</td>\n",
       "      <td>0.215857</td>\n",
       "      <td>0.001817</td>\n",
       "      <td>5</td>\n",
       "    </tr>\n",
       "  </tbody>\n",
       "</table>\n",
       "</div>"
      ],
      "text/plain": [
       "    mean_fit_time  std_fit_time  mean_score_time  std_score_time  \\\n",
       "0        2.550681      0.081907         0.029533        0.002559   \n",
       "1        2.721425      0.208265         0.032089        0.003546   \n",
       "12       3.708585      0.046757         0.031218        0.002523   \n",
       "15       3.489973      0.109457         0.030265        0.000409   \n",
       "14       3.453665      0.101807         0.029545        0.002062   \n",
       "\n",
       "   param_criterion param_min_samples_split param_random_state  \\\n",
       "0             gini                       2                 42   \n",
       "1             gini                       2               None   \n",
       "12         entropy                       6                 42   \n",
       "15         entropy                      14               None   \n",
       "14         entropy                      14                 42   \n",
       "\n",
       "                                               params  split0_test_score  \\\n",
       "0   {'criterion': 'gini', 'min_samples_split': 2, ...           0.214716   \n",
       "1   {'criterion': 'gini', 'min_samples_split': 2, ...           0.217047   \n",
       "12  {'criterion': 'entropy', 'min_samples_split': ...           0.217093   \n",
       "15  {'criterion': 'entropy', 'min_samples_split': ...           0.214798   \n",
       "14  {'criterion': 'entropy', 'min_samples_split': ...           0.215472   \n",
       "\n",
       "    split1_test_score  split2_test_score  mean_test_score  std_test_score  \\\n",
       "0            0.216214           0.217456         0.216128        0.001120   \n",
       "1            0.213960           0.217119         0.216042        0.001472   \n",
       "12           0.212089           0.218641         0.215941        0.002796   \n",
       "15           0.213864           0.218960         0.215874        0.002215   \n",
       "14           0.213849           0.218251         0.215857        0.001817   \n",
       "\n",
       "    rank_test_score  \n",
       "0                 1  \n",
       "1                 2  \n",
       "12                3  \n",
       "15                4  \n",
       "14                5  "
      ]
     },
     "execution_count": 75,
     "metadata": {},
     "output_type": "execute_result"
    }
   ],
   "source": [
    "res = pd.DataFrame(dt_cv.cv_results_)\n",
    "res.sort_values(by='rank_test_score', ascending=True).head()"
   ]
  },
  {
   "cell_type": "code",
   "execution_count": 83,
   "metadata": {},
   "outputs": [
    {
     "name": "stdout",
     "output_type": "stream",
     "text": [
      "Accuracy:\t0.20046\n",
      "Precision:\t0.20043461791314954\n",
      "Recall:\t0.20046\n",
      "F1:\t0.20025358642806665\n"
     ]
    },
    {
     "data": {
      "text/plain": [
       "array([[2236, 2066, 2003, 1891, 1804],\n",
       "       [2183, 2051, 1982, 1969, 1815],\n",
       "       [2319, 1968, 1953, 1921, 1839],\n",
       "       [2110, 2065, 2062, 1937, 1826],\n",
       "       [2149, 2070, 2005, 1930, 1846]])"
      ]
     },
     "execution_count": 83,
     "metadata": {},
     "output_type": "execute_result"
    }
   ],
   "source": [
    "dt = DecisionTreeClassifier(criterion='entropy', min_samples_split=64, random_state=42)\n",
    "dt.fit(X_train, y_train)\n",
    "y_pred = dt.predict(x_test,)\n",
    "print(f'Accuracy:\\t{accuracy_score(y_test, y_pred)}')\n",
    "print(f'Precision:\\t{precision_score(y_test, y_pred, average=\"macro\")}')\n",
    "print(f'Recall:\\t{recall_score(y_test, y_pred, average=\"macro\")}')\n",
    "print(f'F1:\\t{f1_score(y_test, y_pred, average=\"macro\")}')\n",
    "confusion_matrix(y_test, y_pred)"
   ]
  },
  {
   "cell_type": "markdown",
   "metadata": {},
   "source": [
    "## Random Forest\n",
    "\n",
    "~~~\n",
    "Accuracy:\t0.20516\n",
    "Precision:\t0.2051212463423299\n",
    "Recall:\t0.20515999999999995\n",
    "F1:\t0.20510088356551712\n",
    "array([[2072, 2056, 2049, 1907, 1916],\n",
    "       [2066, 2011, 2039, 1894, 1990],\n",
    "       [2003, 1998, 2069, 1880, 2050],\n",
    "       [1978, 2028, 2048, 1920, 2026],\n",
    "       [2046, 1988, 1930, 1850, 2186]])\n",
    "~~~\n"
   ]
  },
  {
   "cell_type": "code",
   "execution_count": 85,
   "metadata": {},
   "outputs": [
    {
     "name": "stdout",
     "output_type": "stream",
     "text": [
      "Accuracy:\t0.20338\n",
      "Precision:\t0.20334535629899847\n",
      "Recall:\t0.20338000000000003\n",
      "F1:\t0.20292564218634665\n"
     ]
    },
    {
     "data": {
      "text/plain": [
       "array([[2301, 2121, 2052, 1786, 1740],\n",
       "       [2214, 2205, 1956, 1845, 1780],\n",
       "       [2244, 2110, 2014, 1845, 1787],\n",
       "       [2292, 2177, 1977, 1793, 1761],\n",
       "       [2266, 2106, 1987, 1785, 1856]])"
      ]
     },
     "execution_count": 85,
     "metadata": {},
     "output_type": "execute_result"
    }
   ],
   "source": [
    "rf = RandomForestClassifier()\n",
    "rf.fit(X_train, y_train)\n",
    "y_pred = rf.predict(x_test,)\n",
    "print(f'Accuracy:\\t{accuracy_score(y_test, y_pred)}')\n",
    "print(f'Precision:\\t{precision_score(y_test, y_pred, average=\"macro\")}')\n",
    "print(f'Recall:\\t{recall_score(y_test, y_pred, average=\"macro\")}')\n",
    "print(f'F1:\\t{f1_score(y_test, y_pred, average=\"macro\")}')\n",
    "confusion_matrix(y_test, y_pred)"
   ]
  },
  {
   "cell_type": "code",
   "execution_count": 94,
   "metadata": {},
   "outputs": [
    {
     "name": "stdout",
     "output_type": "stream",
     "text": [
      "Accuracy:\t0.2027\n",
      "Precision:\t0.20268895335050835\n",
      "Recall:\t0.20270000000000002\n",
      "F1:\t0.202622174130087\n"
     ]
    },
    {
     "data": {
      "text/plain": [
       "array([[2083, 2024, 2019, 1873, 2001],\n",
       "       [2058, 2068, 1977, 1889, 2008],\n",
       "       [2100, 2035, 1959, 1889, 2017],\n",
       "       [2013, 2153, 1972, 1890, 1972],\n",
       "       [2099, 2041, 1928, 1797, 2135]])"
      ]
     },
     "execution_count": 94,
     "metadata": {},
     "output_type": "execute_result"
    }
   ],
   "source": [
    "rf = RandomForestClassifier(criterion='entropy', min_samples_split=64, random_state=42, max_features=4, n_jobs=-1)\n",
    "rf.fit(X_train, y_train)\n",
    "y_pred = rf.predict(x_test,)\n",
    "print(f'Accuracy:\\t{accuracy_score(y_test, y_pred)}')\n",
    "print(f'Precision:\\t{precision_score(y_test, y_pred, average=\"macro\")}')\n",
    "print(f'Recall:\\t{recall_score(y_test, y_pred, average=\"macro\")}')\n",
    "print(f'F1:\\t{f1_score(y_test, y_pred, average=\"macro\")}')\n",
    "confusion_matrix(y_test, y_pred)"
   ]
  },
  {
   "cell_type": "code",
   "execution_count": 96,
   "metadata": {},
   "outputs": [
    {
     "name": "stdout",
     "output_type": "stream",
     "text": [
      "Accuracy:\t0.20516\n",
      "Precision:\t0.2051212463423299\n",
      "Recall:\t0.20515999999999995\n",
      "F1:\t0.20510088356551712\n"
     ]
    },
    {
     "data": {
      "text/plain": [
       "array([[2072, 2056, 2049, 1907, 1916],\n",
       "       [2066, 2011, 2039, 1894, 1990],\n",
       "       [2003, 1998, 2069, 1880, 2050],\n",
       "       [1978, 2028, 2048, 1920, 2026],\n",
       "       [2046, 1988, 1930, 1850, 2186]])"
      ]
     },
     "execution_count": 96,
     "metadata": {},
     "output_type": "execute_result"
    }
   ],
   "source": [
    "rf = RandomForestClassifier(min_samples_split=32, max_features=4, n_jobs=-1)\n",
    "rf.fit(X_train, y_train)\n",
    "y_pred = rf.predict(x_test,)\n",
    "print(f'Accuracy:\\t{accuracy_score(y_test, y_pred)}')\n",
    "print(f'Precision:\\t{precision_score(y_test, y_pred, average=\"macro\")}')\n",
    "print(f'Recall:\\t{recall_score(y_test, y_pred, average=\"macro\")}')\n",
    "print(f'F1:\\t{f1_score(y_test, y_pred, average=\"macro\")}')\n",
    "confusion_matrix(y_test, y_pred)"
   ]
  },
  {
   "cell_type": "markdown",
   "metadata": {},
   "source": [
    "## XGBoost\n",
    "\n",
    "~~~\n",
    "Accuracy:\t0.2025\n",
    "Precision:\t0.2025738072573832\n",
    "Recall:\t0.20249999999999999\n",
    "F1:\t0.20229736964345638\n",
    "array([[2208, 2007, 1772, 2025, 1988],\n",
    "       [2150, 2057, 1745, 2094, 1954],\n",
    "       [2183, 1989, 1815, 2045, 1968],\n",
    "       [2207, 2052, 1764, 2063, 1914],\n",
    "       [2219, 1989, 1775, 2035, 1982]])\n",
    "~~~\n"
   ]
  },
  {
   "cell_type": "code",
   "execution_count": 119,
   "metadata": {},
   "outputs": [
    {
     "name": "stderr",
     "output_type": "stream",
     "text": [
      "/home/patrick/anaconda3/envs/classification/lib/python3.10/site-packages/xgboost/data.py:262: FutureWarning: pandas.Int64Index is deprecated and will be removed from pandas in a future version. Use pandas.Index with the appropriate dtype instead.\n",
      "  elif isinstance(data.columns, (pd.Int64Index, pd.RangeIndex)):\n"
     ]
    },
    {
     "name": "stdout",
     "output_type": "stream",
     "text": [
      "Accuracy:\t0.2025\n",
      "Precision:\t0.2025738072573832\n",
      "Recall:\t0.20249999999999999\n",
      "F1:\t0.20229736964345638\n"
     ]
    },
    {
     "data": {
      "text/plain": [
       "array([[2208, 2007, 1772, 2025, 1988],\n",
       "       [2150, 2057, 1745, 2094, 1954],\n",
       "       [2183, 1989, 1815, 2045, 1968],\n",
       "       [2207, 2052, 1764, 2063, 1914],\n",
       "       [2219, 1989, 1775, 2035, 1982]])"
      ]
     },
     "execution_count": 119,
     "metadata": {},
     "output_type": "execute_result"
    }
   ],
   "source": [
    "gbm = xgb.XGBClassifier( \n",
    "                        n_estimators=30000,\n",
    "                        max_depth=4,\n",
    "                        objective='multi:softmax', #new objective\n",
    "                        learning_rate=.05, \n",
    "                        subsample=.8,\n",
    "                        min_child_weight=3,\n",
    "                        colsample_bytree=.8,\n",
    "                        use_label_encoder=False\n",
    "                       )\n",
    "\n",
    "eval_set=[(X_train,y_train),(X_val,y_val)]\n",
    "fit_model = gbm.fit( \n",
    "                    X_train, y_train, \n",
    "                    eval_set=eval_set,\n",
    "                    eval_metric='merror',\n",
    "                    early_stopping_rounds=50,\n",
    "                    verbose=False\n",
    "                   )\n",
    "\n",
    "y_pred = gbm.predict(x_test)\n",
    "print(f'Accuracy:\\t{accuracy_score(y_test, y_pred)}')\n",
    "print(f'Precision:\\t{precision_score(y_test, y_pred, average=\"macro\")}')\n",
    "print(f'Recall:\\t{recall_score(y_test, y_pred, average=\"macro\")}')\n",
    "print(f'F1:\\t{f1_score(y_test, y_pred, average=\"macro\")}')\n",
    "confusion_matrix(y_test, y_pred)"
   ]
  },
  {
   "cell_type": "code",
   "execution_count": 121,
   "metadata": {},
   "outputs": [],
   "source": [
    "# gbm = xgb.XGBClassifier(use_label_encoder=False)\n",
    "# # grid={'max_depth': [2, 6, 12],'n_estimators': [50, 100, 200], 'learning_rate':[0.3,.05],\n",
    "# #         'objective':['multi:softmax', 'multi:softprob'],'colsample_bytree':[0.2,0.5,0.8]}\n",
    "# grid={'max_depth': [2, 12],'n_estimators': [50, 200],\n",
    "#         'objective':['multi:softmax'],'colsample_bytree':[0.8]}\n",
    "# gbm_cv=GridSearchCV(gbm,grid,cv=3,scoring='f1_macro', n_jobs=-1)\n",
    "# gbm_cv.fit(X_train, y_train)"
   ]
  },
  {
   "cell_type": "code",
   "execution_count": null,
   "metadata": {},
   "outputs": [],
   "source": [
    "# res = pd.DataFrame(gbm_cv.cv_results_)\n",
    "# res.sort_values(by='rank_test_score', ascending=True).head(10)"
   ]
  },
  {
   "cell_type": "code",
   "execution_count": 122,
   "metadata": {},
   "outputs": [
    {
     "name": "stderr",
     "output_type": "stream",
     "text": [
      "/home/patrick/anaconda3/envs/classification/lib/python3.10/site-packages/xgboost/data.py:262: FutureWarning: pandas.Int64Index is deprecated and will be removed from pandas in a future version. Use pandas.Index with the appropriate dtype instead.\n",
      "  elif isinstance(data.columns, (pd.Int64Index, pd.RangeIndex)):\n"
     ]
    },
    {
     "name": "stdout",
     "output_type": "stream",
     "text": [
      "Accuracy:\t0.20294\n",
      "Precision:\t0.20297739832653744\n",
      "Recall:\t0.20293999999999998\n",
      "F1:\t0.20288853644668597\n"
     ]
    },
    {
     "data": {
      "text/plain": [
       "array([[2018, 2166, 1941, 1913, 1962],\n",
       "       [2039, 2060, 1925, 1933, 2043],\n",
       "       [2146, 2073, 1923, 1900, 1958],\n",
       "       [2052, 2059, 1884, 1959, 2046],\n",
       "       [2040, 2044, 1828, 1901, 2187]])"
      ]
     },
     "execution_count": 122,
     "metadata": {},
     "output_type": "execute_result"
    }
   ],
   "source": [
    "gbm = xgb.XGBClassifier( \n",
    "                        n_estimators=200,\n",
    "                        max_depth=12,\n",
    "                        objective='multi:softmax', #new objective\n",
    "                        learning_rate=.03, \n",
    "                        min_child_weight=3,\n",
    "                        colsample_bytree=.4,\n",
    "                        use_label_encoder=False\n",
    "                       )\n",
    "\n",
    "eval_set=[(X_train,y_train),(X_val,y_val)]\n",
    "fit_model = gbm.fit( \n",
    "                    X_train, y_train, \n",
    "                    eval_set=eval_set,\n",
    "                    eval_metric='merror',\n",
    "                    early_stopping_rounds=50,\n",
    "                    verbose=False\n",
    "                   )\n",
    "\n",
    "y_pred = gbm.predict(x_test)\n",
    "print(f'Accuracy:\\t{accuracy_score(y_test, y_pred)}')\n",
    "print(f'Precision:\\t{precision_score(y_test, y_pred, average=\"macro\")}')\n",
    "print(f'Recall:\\t{recall_score(y_test, y_pred, average=\"macro\")}')\n",
    "print(f'F1:\\t{f1_score(y_test, y_pred, average=\"macro\")}')\n",
    "confusion_matrix(y_test, y_pred)"
   ]
  },
  {
   "cell_type": "markdown",
   "metadata": {},
   "source": [
    "## Naive Bayes\n",
    "\n",
    "~~~\n",
    "Accuracy:\t0.2025\n",
    "Precision:\t0.2025738072573832\n",
    "Recall:\t0.20249999999999999\n",
    "F1:\t0.20229736964345638\n",
    "array([[2208, 2007, 1772, 2025, 1988],\n",
    "       [2150, 2057, 1745, 2094, 1954],\n",
    "       [2183, 1989, 1815, 2045, 1968],\n",
    "       [2207, 2052, 1764, 2063, 1914],\n",
    "       [2219, 1989, 1775, 2035, 1982]])\n",
    "~~~"
   ]
  },
  {
   "cell_type": "code",
   "execution_count": 129,
   "metadata": {},
   "outputs": [
    {
     "name": "stdout",
     "output_type": "stream",
     "text": [
      "Accuracy:\t0.2017\n",
      "Precision:\t0.20149455721524698\n",
      "Recall:\t0.2017\n",
      "F1:\t0.20024009019402036\n"
     ]
    },
    {
     "data": {
      "text/plain": [
       "array([[1796, 2323, 2294, 2032, 1555],\n",
       "       [1713, 2410, 2272, 2075, 1530],\n",
       "       [1735, 2294, 2333, 2095, 1543],\n",
       "       [1682, 2480, 2279, 2050, 1509],\n",
       "       [1747, 2342, 2306, 2109, 1496]])"
      ]
     },
     "execution_count": 129,
     "metadata": {},
     "output_type": "execute_result"
    }
   ],
   "source": [
    "gnb = GaussianNB()\n",
    "gnb.fit(X_train, y_train)\n",
    "y_pred = gnb.predict(x_test,)\n",
    "print(f'Accuracy:\\t{accuracy_score(y_test, y_pred)}')\n",
    "print(f'Precision:\\t{precision_score(y_test, y_pred, average=\"macro\")}')\n",
    "print(f'Recall:\\t{recall_score(y_test, y_pred, average=\"macro\")}')\n",
    "print(f'F1:\\t{f1_score(y_test, y_pred, average=\"macro\")}')\n",
    "confusion_matrix(y_test, y_pred)"
   ]
  },
  {
   "cell_type": "code",
   "execution_count": null,
   "metadata": {},
   "outputs": [],
   "source": []
  },
  {
   "cell_type": "markdown",
   "metadata": {},
   "source": [
    "## Ensemble of Models\n",
    "\n",
    "~~~\n",
    "Accuracy:\t0.2025\n",
    "Precision:\t0.2025738072573832\n",
    "Recall:\t0.20249999999999999\n",
    "F1:\t0.20229736964345638\n",
    "array([[2208, 2007, 1772, 2025, 1988],\n",
    "       [2150, 2057, 1745, 2094, 1954],\n",
    "       [2183, 1989, 1815, 2045, 1968],\n",
    "       [2207, 2052, 1764, 2063, 1914],\n",
    "       [2219, 1989, 1775, 2035, 1982]])\n",
    "~~~"
   ]
  },
  {
   "cell_type": "code",
   "execution_count": 126,
   "metadata": {},
   "outputs": [
    {
     "name": "stdout",
     "output_type": "stream",
     "text": [
      "Accuracy:\t0.2022\n",
      "Precision:\t0.20107199737095044\n",
      "Recall:\t0.2022\n",
      "F1:\t0.18465419725423415\n"
     ]
    },
    {
     "data": {
      "text/plain": [
       "array([[4069, 2612, 1520, 1049,  750],\n",
       "       [4029, 2697, 1487, 1026,  761],\n",
       "       [3941, 2667, 1585, 1036,  771],\n",
       "       [3946, 2756, 1537, 1001,  760],\n",
       "       [3948, 2696, 1595, 1003,  758]])"
      ]
     },
     "execution_count": 126,
     "metadata": {},
     "output_type": "execute_result"
    }
   ],
   "source": [
    "# create voting classifier\n",
    "model_list = [\n",
    "    ('knn', knn),\n",
    "    ('lr', lr),\n",
    "    ('dt', dt),\n",
    "    ('rf', rf),\n",
    "]\n",
    "voting_classifer = VotingClassifier(estimators=model_list,\n",
    "                                    voting='hard', #<-- sklearn calls this hard voting\n",
    "                                    n_jobs=-1)\n",
    "voting_classifer.fit(X_train, y_train)\n",
    "y_pred = voting_classifer.predict(x_test)\n",
    "print(f'Accuracy:\\t{accuracy_score(y_test, y_pred)}')\n",
    "print(f'Precision:\\t{precision_score(y_test, y_pred, average=\"macro\")}')\n",
    "print(f'Recall:\\t{recall_score(y_test, y_pred, average=\"macro\")}')\n",
    "print(f'F1:\\t{f1_score(y_test, y_pred, average=\"macro\")}')\n",
    "confusion_matrix(y_test, y_pred)\n"
   ]
  },
  {
   "cell_type": "code",
   "execution_count": 127,
   "metadata": {},
   "outputs": [
    {
     "name": "stdout",
     "output_type": "stream",
     "text": [
      "Accuracy:\t0.20114\n",
      "Precision:\t0.20110788416198888\n",
      "Recall:\t0.20114\n",
      "F1:\t0.20111479120585632\n"
     ]
    },
    {
     "data": {
      "text/plain": [
       "array([[2040, 1987, 1952, 2046, 1975],\n",
       "       [1991, 2077, 1929, 1959, 2044],\n",
       "       [2045, 1998, 1923, 2030, 2004],\n",
       "       [1969, 2066, 1889, 2048, 2028],\n",
       "       [2005, 2017, 2051, 1958, 1969]])"
      ]
     },
     "execution_count": 127,
     "metadata": {},
     "output_type": "execute_result"
    }
   ],
   "source": [
    "model_list = [\n",
    "    ('knn', knn),\n",
    "    ('lr', lr),\n",
    "    ('dt', dt),\n",
    "    ('rf', rf),\n",
    "]\n",
    "voting_classifer = VotingClassifier(estimators=model_list,\n",
    "                                    voting='soft', #<-- sklearn calls this hard voting\n",
    "                                    n_jobs=-1)\n",
    "voting_classifer.fit(X_train, y_train)\n",
    "y_pred = voting_classifer.predict(x_test)\n",
    "print(f'Accuracy:\\t{accuracy_score(y_test, y_pred)}')\n",
    "print(f'Precision:\\t{precision_score(y_test, y_pred, average=\"macro\")}')\n",
    "print(f'Recall:\\t{recall_score(y_test, y_pred, average=\"macro\")}')\n",
    "print(f'F1:\\t{f1_score(y_test, y_pred, average=\"macro\")}')\n",
    "confusion_matrix(y_test, y_pred)\n"
   ]
  },
  {
   "cell_type": "code",
   "execution_count": 134,
   "metadata": {},
   "outputs": [
    {
     "name": "stderr",
     "output_type": "stream",
     "text": [
      "/home/patrick/anaconda3/envs/classification/lib/python3.10/site-packages/sklearn/linear_model/_logistic.py:814: ConvergenceWarning: lbfgs failed to converge (status=1):\n",
      "STOP: TOTAL NO. of ITERATIONS REACHED LIMIT.\n",
      "\n",
      "Increase the number of iterations (max_iter) or scale the data as shown in:\n",
      "    https://scikit-learn.org/stable/modules/preprocessing.html\n",
      "Please also refer to the documentation for alternative solver options:\n",
      "    https://scikit-learn.org/stable/modules/linear_model.html#logistic-regression\n",
      "  n_iter_i = _check_optimize_result(\n"
     ]
    },
    {
     "name": "stdout",
     "output_type": "stream",
     "text": [
      "Accuracy:\t0.20006\n",
      "Precision:\t0.20007959484982396\n",
      "Recall:\t0.20006000000000004\n",
      "F1:\t0.20005786370219533\n"
     ]
    },
    {
     "data": {
      "text/plain": [
       "array([[2051, 2070, 1981, 1925, 1973],\n",
       "       [2049, 2009, 2004, 1948, 1990],\n",
       "       [2078, 1977, 1980, 1944, 2021],\n",
       "       [1934, 2076, 1947, 1987, 2056],\n",
       "       [2047, 2023, 2006, 1948, 1976]])"
      ]
     },
     "execution_count": 134,
     "metadata": {},
     "output_type": "execute_result"
    }
   ],
   "source": [
    "model_list = [knn,lr,dt,rf]\n",
    "stacked = StackingClassifier(\n",
    "    classifiers=model_list, meta_classifier=LogisticRegression(n_jobs=-1), use_probas=False)\n",
    "stacked.fit(X_train, y_train)\n",
    "y_pred = stacked.predict(x_test)\n",
    "print(f'Accuracy:\\t{accuracy_score(y_test, y_pred)}')\n",
    "print(f'Precision:\\t{precision_score(y_test, y_pred, average=\"macro\")}')\n",
    "print(f'Recall:\\t{recall_score(y_test, y_pred, average=\"macro\")}')\n",
    "print(f'F1:\\t{f1_score(y_test, y_pred, average=\"macro\")}')\n",
    "confusion_matrix(y_test, y_pred)"
   ]
  },
  {
   "cell_type": "code",
   "execution_count": null,
   "metadata": {},
   "outputs": [],
   "source": []
  }
 ],
 "metadata": {
  "kernelspec": {
   "display_name": "Python 3.10.5 ('classification')",
   "language": "python",
   "name": "python3"
  },
  "language_info": {
   "codemirror_mode": {
    "name": "ipython",
    "version": 3
   },
   "file_extension": ".py",
   "mimetype": "text/x-python",
   "name": "python",
   "nbconvert_exporter": "python",
   "pygments_lexer": "ipython3",
   "version": "3.10.5"
  },
  "orig_nbformat": 4,
  "vscode": {
   "interpreter": {
    "hash": "5f0e1bddb7ed37f67f576e4a6a21b2408ebab9a006050dc6d038d31036c144c3"
   }
  }
 },
 "nbformat": 4,
 "nbformat_minor": 2
}
