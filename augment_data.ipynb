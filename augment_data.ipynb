{
 "cells": [
  {
   "cell_type": "code",
   "execution_count": 11,
   "metadata": {},
   "outputs": [],
   "source": [
    "import os\n",
    "import json\n",
    "import cv2\n",
    "import string\n",
    "import random\n",
    "import albumentations as A\n",
    "import copy\n",
    "import numpy as np\n",
    "import matplotlib.pyplot as plt"
   ]
  },
  {
   "cell_type": "code",
   "execution_count": 2,
   "metadata": {},
   "outputs": [],
   "source": [
    "template_directory = 'templates_img'\n",
    "\n",
    "text_locations = json.load(open('text_locations.json', 'r'))\n",
    "\n",
    "image_dir =  \"data/\"\n",
    "\n",
    "backgrounds_dir = 'image_backgrounds'"
   ]
  },
  {
   "cell_type": "code",
   "execution_count": 3,
   "metadata": {},
   "outputs": [
    {
     "data": {
      "text/plain": [
       "\"hY3Znj0_d'\""
      ]
     },
     "execution_count": 3,
     "metadata": {},
     "output_type": "execute_result"
    }
   ],
   "source": [
    "# {'license_driver', 'dob', 'address_full', 'zip', 'name_last', 'email', 'name', 'name_first', 'business', 'state', 'initial_middle','address', 'city', 'relation'}\n",
    "\n",
    "def generate_field(field):\n",
    "    if field == 'ssn':\n",
    "        res = ''.join(random.choices(string.digits, k=9))\n",
    "        return res\n",
    "    elif field == 'tele':\n",
    "        res = ''.join(random.choices(string.digits, k=10))\n",
    "        return res\n",
    "\n",
    "\n",
    "def generate_random_field(length = 0):\n",
    "    length = length if length else random.randint(2, 20)\n",
    "    field = ''.join(random.choices(string.ascii_letters + string.digits + string.punctuation, k=length))\n",
    "    return field\n",
    "\n",
    "generate_random_field()"
   ]
  },
  {
   "cell_type": "code",
   "execution_count": 4,
   "metadata": {},
   "outputs": [],
   "source": [
    "transform = A.Compose([\n",
    "        # A.RandomRotate90(),\n",
    "        # A.Flip(),\n",
    "        # A.Transpose(),\n",
    "        A.ImageCompression(quality_lower=10, p=0.1),\n",
    "        A.OneOf([\n",
    "            # A.IAAAdditiveGaussianNoise(),\n",
    "            A.GaussNoise(p=0.8),\n",
    "            A.ISONoise(p=0.2),\n",
    "            A.MultiplicativeNoise(p=.05)\n",
    "        ], p=0.1),\n",
    "        A.OneOf([\n",
    "            A.MotionBlur(p=.2),\n",
    "            A.MedianBlur(blur_limit=3, p=0.1),\n",
    "            A.Blur(blur_limit=3, p=0.1),\n",
    "        ], p=0.05),\n",
    "        A.ShiftScaleRotate(shift_limit=0.15, scale_limit=0.2, rotate_limit=60, p=0.5),\n",
    "        A.OneOf([\n",
    "            A.OpticalDistortion(p=0.5),\n",
    "            A.GridDistortion(p=.5),\n",
    "            A.PiecewiseAffine(p=0.5),\n",
    "        ], p=0.5),\n",
    "        A.OneOf([\n",
    "            A.CLAHE(clip_limit=2),\n",
    "            A.Sharpen(),\n",
    "            A.Emboss(),\n",
    "            A.RandomBrightnessContrast(),            \n",
    "        ], p=0.05),\n",
    "        A.OneOf([\n",
    "            A.RandomFog(),\n",
    "            A.RandomRain(),\n",
    "            A.RandomSnow(),\n",
    "            A.RandomSunFlare(),            \n",
    "        ], p=0.1),\n",
    "        A.HueSaturationValue(p=0.01),\n",
    "        # A.Rotate(66,p=0.3)\n",
    "        # A.ToGray(always_apply=True)\n",
    "    ])\n",
    "# random.seed(42) "
   ]
  },
  {
   "cell_type": "code",
   "execution_count": 5,
   "metadata": {},
   "outputs": [],
   "source": [
    "fonts = [\n",
    "    cv2.FONT_HERSHEY_SIMPLEX,\n",
    "    cv2.FONT_HERSHEY_COMPLEX,\n",
    "    cv2.FONT_HERSHEY_PLAIN,\n",
    "    cv2.FONT_HERSHEY_DUPLEX,\n",
    "    cv2.FONT_HERSHEY_TRIPLEX,\n",
    "    cv2.FONT_HERSHEY_COMPLEX_SMALL,\n",
    "    cv2.FONT_HERSHEY_SCRIPT_COMPLEX,\n",
    "    cv2.FONT_HERSHEY_SCRIPT_COMPLEX,\n",
    "    cv2.FONT_ITALIC]"
   ]
  },
  {
   "cell_type": "code",
   "execution_count": 23,
   "metadata": {},
   "outputs": [],
   "source": [
    "\n",
    "for filename in text_locations:\n",
    "    if text_locations[filename] != {}:\n",
    "        img = cv2.imread(template_directory+ '/'+filename, 1)\n",
    "        img = cv2.resize(img, (850, 1100)) \n",
    "\n",
    "        doc_info = text_locations[filename]\n",
    "        for loc in doc_info:\n",
    "            font = random.choice(fonts)\n",
    "            cv2.putText(img, generate_random_field(),\n",
    "                        (int(loc['x']),int(loc['y'])), font,\n",
    "\t\t\t\t\t    0.75, (255, 0, 0), 2)\n",
    "\n",
    "        transformed = transform(image=img)\n",
    "        img = transformed['image']\n",
    "        cv2.imshow('image', img)\n",
    "        cv2.waitKey(0)\n",
    "        cv2.destroyAllWindows()\n"
   ]
  },
  {
   "cell_type": "code",
   "execution_count": 34,
   "metadata": {},
   "outputs": [
    {
     "name": "stdout",
     "output_type": "stream",
     "text": [
      "150000\r"
     ]
    }
   ],
   "source": [
    "def generate_target_dictionary():\n",
    "    files = os.listdir(image_dir)\n",
    "    types = list(set([file[:4] for file in files]))\n",
    "    categories = {}\n",
    "    for i in range(len(types)):\n",
    "        categories[types[i]] = i\n",
    "    return categories\n",
    "categories = generate_target_dictionary()\n",
    "\n",
    "\n",
    "backgrounds = []\n",
    "for filename in os.listdir(backgrounds_dir):\n",
    "    img = cv2.imread(backgrounds_dir+ '/'+filename, 1)\n",
    "    backgrounds.append(img)\n",
    "\n",
    "out_raw = np.memmap('image_data_raw.npy', mode='w+', shape = (150000,275,210))\n",
    "out_binary = np.memmap('image_data_binary.npy', mode='w+', shape = (150000,275,210))\n",
    "target = np.memmap('image_target.npy', dtype=np.int8, mode='w+', shape = (150000))\n",
    "index = 0\n",
    "for filename in text_locations:\n",
    "    if text_locations[filename] != {}:\n",
    "        image = cv2.imread(template_directory+ '/'+filename, 1)\n",
    "        image = cv2.resize(image, (850, 1100)) \n",
    "\n",
    "        doc_info = text_locations[filename]\n",
    "        for i in range(30000):\n",
    "            background_img = backgrounds[random.randint(0, len(backgrounds))-1]\n",
    "            img = image\n",
    "            for loc in doc_info:\n",
    "                font = random.choice(fonts)\n",
    "                cv2.putText(img, generate_random_field(),\n",
    "                            (int(loc['x']),int(loc['y'])), font,\n",
    "                            0.75, (255, 0, 0), 2)\n",
    "            # resize(210,275)\n",
    "            x_size = random.randint(-200,400)\n",
    "            y_size = random.randint(-200,400)\n",
    "            x_size = x_size if x_size > 0 else 0\n",
    "            y_size = y_size if y_size > 0 else 0\n",
    "            x_offset = int(x_size/2)\n",
    "            y_offset = int(y_size/2)\n",
    "            background_img = cv2.resize(background_img, (850+x_size, 1100+y_size)) \n",
    "\n",
    "            background_img[y_offset:y_offset+img.shape[0], x_offset:x_offset+img.shape[1]] = img\n",
    "            transformed = transform(image=cv2.resize(background_img, (210,275)))\n",
    "            img = transformed['image']\n",
    "            \n",
    "            img = cv2.cvtColor(transformed['image'], cv2.COLOR_BGR2GRAY)\n",
    "            out_raw[index] = img\n",
    "            # print(img.shape)\n",
    "            img = cv2.adaptiveThreshold(img,255,cv2.ADAPTIVE_THRESH_GAUSSIAN_C,cv2.THRESH_BINARY,11,2)\n",
    "            out_binary[index] = img\n",
    "            target[index] = categories[filename[:4]]\n",
    "            index+=1\n",
    "            # print(img.shape)\n",
    "            # cv2.imshow('image', img)\n",
    "            # cv2.waitKey(0)\n",
    "            # cv2.destroyAllWindows()\n",
    "            print(index,end='\\r')\n"
   ]
  },
  {
   "cell_type": "code",
   "execution_count": 35,
   "metadata": {},
   "outputs": [],
   "source": [
    "out_raw.flush()\n",
    "out_binary.flush()\n",
    "target.flush()\n",
    "out_binary = np.memmap('image_data_raw.npy', mode='r', shape = (100000,275,210))\n",
    "# for x in out_binary[:5]:\n",
    "    # img = cv2.imread(x)\n",
    "\n",
    "    # cv2.imshow('image', x, cmap='gray')\n",
    "    # cv2.waitKey(0)\n",
    "    # cv2.destroyAllWindows()\n",
    "# plt.imshow(out_binary[5], cmap='gray')\n",
    "cv2.imshow('image', out_binary[5])\n",
    "cv2.waitKey(0)\n",
    "cv2.destroyAllWindows()"
   ]
  },
  {
   "cell_type": "code",
   "execution_count": 29,
   "metadata": {},
   "outputs": [
    {
     "name": "stdout",
     "output_type": "stream",
     "text": [
      "[1 1 1 1 1 4 4 4 4 4 2 2 2 2 2 3 3 3 3 3 0 0 0 0 0 0 0 0 0 0]\n"
     ]
    }
   ],
   "source": [
    "target.flush()\n",
    "out_binary = np.memmap('image_target.npy', mode='r', shape = (100000))\n",
    "print(out_binary[:30])"
   ]
  },
  {
   "cell_type": "code",
   "execution_count": 85,
   "metadata": {},
   "outputs": [],
   "source": [
    "backgrounds_dir = 'image_backgrounds'\n",
    "\n",
    "for filename in os.listdir(backgrounds_dir):\n",
    "    background_img = cv2.imread(backgrounds_dir+ '/'+filename, 1)\n",
    "    x_size = random.randint(-200,200)\n",
    "    y_size = random.randint(-200,200)\n",
    "    x_size = x_size if x_size > 0 else 0\n",
    "    y_size = y_size if y_size > 0 else 0\n",
    "    x_offset = int(x_size/2)\n",
    "    y_offset = int(y_size/2)\n",
    "    background_img = cv2.resize(background_img, (850+x_size, 1100+y_size)) \n",
    "\n",
    "    out = background_img\n",
    "    out[y_offset:y_offset+img.shape[0], x_offset:x_offset+img.shape[1]] = img\n",
    "    cv2.imshow('image', background_img)\n",
    "    cv2.waitKey(0)\n",
    "    cv2.destroyAllWindows()"
   ]
  },
  {
   "cell_type": "code",
   "execution_count": 126,
   "metadata": {},
   "outputs": [
    {
     "name": "stdout",
     "output_type": "stream",
     "text": [
      "\n",
      "TeacherLoanForgiveness\n",
      "19999\n",
      "PublicServiceLoanForgivenessPSLFTemporaryExpandedPSLFTEPSLFCertificationApplication\n",
      "19999\n",
      "IncomeDrivenRepayment\n",
      "19999\n",
      "EconomicHardshipDeferment\n",
      "19999\n",
      "Consolidation\n",
      "19999\r"
     ]
    }
   ],
   "source": [
    "backgrounds = []\n",
    "for filename in os.listdir(backgrounds_dir):\n",
    "    img = cv2.imread(backgrounds_dir+ '/'+filename, 1)\n",
    "    backgrounds.append(img)\n",
    "\n",
    "files = ['IncomeDrivenRepayment_0.jpg', \"TeacherLoanForgiveness_0.jpg\"]\n",
    "\n",
    "for filename in text_locations:\n",
    "    if text_locations[filename] != {}:\n",
    "        image = cv2.imread(template_directory+ '/'+filename, 1)\n",
    "        image = cv2.resize(image, (850, 1100)) \n",
    "\n",
    "        doc_info = text_locations[filename]\n",
    "\n",
    "        file = filename.split('_')[0].strip()\n",
    "        print(f'\\n{file}')\n",
    "        for i in range(7500,20000):\n",
    "            background_img = backgrounds[random.randint(0, len(backgrounds)-1)]\n",
    "            img = image\n",
    "            for loc in doc_info:\n",
    "                font = random.choice(fonts)\n",
    "                cv2.putText(img, generate_random_field(),\n",
    "                            (int(loc['x']),int(loc['y'])), font,\n",
    "                            0.75, (255, 0, 0), 2)\n",
    "            # resize(210,275)\n",
    "            x_size = random.randint(-200,300)\n",
    "            y_size = random.randint(-200,300)\n",
    "            x_size = x_size if x_size > 0 else 0\n",
    "            y_size = y_size if y_size > 0 else 0\n",
    "            x_offset = int(x_size/2)\n",
    "            y_offset = int(y_size/2)\n",
    "            background_img = cv2.resize(background_img, (850+x_size, 1100+y_size)) \n",
    "\n",
    "            background_img[y_offset:y_offset+img.shape[0], x_offset:x_offset+img.shape[1]] = img\n",
    "            transformed = transform(image=cv2.resize(background_img, (210,275)))\n",
    "            img = transformed['image']\n",
    "            # img = cv2.cvtColor(transformed['image'], cv2.COLOR_BGR2GRAY)\n",
    "            # img = cv2.adaptiveThreshold(img,255,cv2.ADAPTIVE_THRESH_GAUSSIAN_C,cv2.THRESH_BINARY,11,2)\n",
    "            cv2.imwrite(f'data/{file[:5]}_{i}.jpg', img)\n",
    "            print(f'{i}',end='\\r')"
   ]
  },
  {
   "cell_type": "code",
   "execution_count": 12,
   "metadata": {},
   "outputs": [
    {
     "name": "stdout",
     "output_type": "stream",
     "text": [
      "\n",
      "TeacherLoanForgiveness\n",
      "19999\n",
      "PublicServiceLoanForgivenessPSLFTemporaryExpandedPSLFTEPSLFCertificationApplication\n",
      "19999\n",
      "IncomeDrivenRepayment\n",
      "19999\n",
      "EconomicHardshipDeferment\n",
      "19999\n",
      "Consolidation\n",
      "19999\r"
     ]
    }
   ],
   "source": [
    "backgrounds = []\n",
    "for filename in os.listdir(backgrounds_dir):\n",
    "    img = cv2.imread(backgrounds_dir+ '/'+filename, 1)\n",
    "    backgrounds.append(img)\n",
    "\n",
    "image_dir = \"data/\"\n",
    "files = os.listdir(image_dir)\n",
    "types = list(set([file[:4] for file in files]))\n",
    "categories = {}\n",
    "for i in range(len(types)):\n",
    "    categories[types[i]] = i\n",
    "\n",
    "arr_x = []\n",
    "arr_y = []\n",
    "\n",
    "for filename in text_locations:\n",
    "    if text_locations[filename] != {}:\n",
    "        image = cv2.imread(template_directory+ '/'+filename, 1)\n",
    "        image = cv2.resize(image, (850, 1100)) \n",
    "\n",
    "        doc_info = text_locations[filename]\n",
    "\n",
    "        file = filename.split('_')[0].strip()\n",
    "        print(f'\\n{file}')\n",
    "        for i in range(20000):\n",
    "            background_img = backgrounds[random.randint(0, len(backgrounds)-1)]\n",
    "            img = image\n",
    "            for loc in doc_info:\n",
    "                font = random.choice(fonts)\n",
    "                cv2.putText(img, generate_random_field(),\n",
    "                            (int(loc['x']),int(loc['y'])), font,\n",
    "                            0.75, (255, 0, 0), 2)\n",
    "            # resize(210,275)\n",
    "            x_size = random.randint(-200,300)\n",
    "            y_size = random.randint(-200,300)\n",
    "            x_size = x_size if x_size > 0 else 0\n",
    "            y_size = y_size if y_size > 0 else 0\n",
    "            x_offset = int(x_size/2)\n",
    "            y_offset = int(y_size/2)\n",
    "            background_img = cv2.resize(background_img, (850+x_size, 1100+y_size)) \n",
    "\n",
    "            background_img[y_offset:y_offset+img.shape[0], x_offset:x_offset+img.shape[1]] = img\n",
    "            transformed = transform(image=cv2.resize(background_img, (210,275)))\n",
    "            img = transformed['image']\n",
    "            img = cv2.cvtColor(transformed['image'], cv2.COLOR_BGR2GRAY)\n",
    "            # img = cv2.adaptiveThreshold(img,255,cv2.ADAPTIVE_THRESH_GAUSSIAN_C,cv2.THRESH_BINARY,11,2)\n",
    "            # cv2.imwrite(f'data/{file[:5]}_{i}.jpg', img)\n",
    "            arr_x.append(img)\n",
    "            arr_y.append([categories[filename[:4]]])\n",
    "            \n",
    "            print(f'{i}',end='\\r')\n",
    "\n",
    "arr_x = np.array(arr_x)\n",
    "arr_y = np.array(arr_y)\n",
    "np.save(f'image_data', arr_x)\n",
    "np.save(f'target_data', arr_y)\n",
    "# print(arr_x.shape)"
   ]
  },
  {
   "cell_type": "code",
   "execution_count": 20,
   "metadata": {},
   "outputs": [
    {
     "name": "stdout",
     "output_type": "stream",
     "text": [
      "(100000, 275, 210)\n",
      "(100000, 1)\n",
      "<class 'numpy.uint8'>\n"
     ]
    }
   ],
   "source": [
    "print(arr_x.shape)\n",
    "print(arr_y.shape)\n",
    "print(type(arr_x[0][0][0]))\n"
   ]
  }
 ],
 "metadata": {
  "kernelspec": {
   "display_name": "Python 3.10.4 ('classification')",
   "language": "python",
   "name": "python3"
  },
  "language_info": {
   "codemirror_mode": {
    "name": "ipython",
    "version": 3
   },
   "file_extension": ".py",
   "mimetype": "text/x-python",
   "name": "python",
   "nbconvert_exporter": "python",
   "pygments_lexer": "ipython3",
   "version": "3.10.5"
  },
  "orig_nbformat": 4,
  "vscode": {
   "interpreter": {
    "hash": "5f0e1bddb7ed37f67f576e4a6a21b2408ebab9a006050dc6d038d31036c144c3"
   }
  }
 },
 "nbformat": 4,
 "nbformat_minor": 2
}
