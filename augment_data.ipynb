{
 "cells": [
  {
   "cell_type": "code",
   "execution_count": 48,
   "metadata": {},
   "outputs": [],
   "source": [
    "import os\n",
    "import json\n",
    "import cv2\n",
    "import string\n",
    "import random\n",
    "import albumentations as A\n",
    "import copy"
   ]
  },
  {
   "cell_type": "code",
   "execution_count": 79,
   "metadata": {},
   "outputs": [],
   "source": [
    "template_directory = 'templates_img'\n",
    "\n",
    "text_locations = json.load(open('text_locations.json', 'r'))\n",
    "\n",
    "backgrounds_dir = 'image_backgrounds'"
   ]
  },
  {
   "cell_type": "code",
   "execution_count": 18,
   "metadata": {},
   "outputs": [
    {
     "data": {
      "text/plain": [
       "'>BzhCn>+7>'"
      ]
     },
     "execution_count": 18,
     "metadata": {},
     "output_type": "execute_result"
    }
   ],
   "source": [
    "# {'license_driver', 'dob', 'address_full', 'zip', 'name_last', 'email', 'name', 'name_first', 'business', 'state', 'initial_middle','address', 'city', 'relation'}\n",
    "\n",
    "def generate_field(field):\n",
    "    if field == 'ssn':\n",
    "        res = ''.join(random.choices(string.digits, k=9))\n",
    "        return res\n",
    "    elif field == 'tele':\n",
    "        res = ''.join(random.choices(string.digits, k=10))\n",
    "        return res\n",
    "\n",
    "\n",
    "def generate_random_field(length = 0):\n",
    "    length = length if length else random.randint(2, 20)\n",
    "    field = ''.join(random.choices(string.ascii_letters + string.digits + string.punctuation, k=length))\n",
    "    return field\n",
    "\n",
    "transform = A.Compose([\n",
    "    # A.RandomCrop(width=256, height=256),\n",
    "    A.HorizontalFlip(p=0.005),\n",
    "    A.RandomBrightnessContrast(p=0.3),\n",
    "    A.ImageCompression(quality_lower=10,quality_upper=100,p=.5),\n",
    "    A.AdvancedBlur(p=.4),\n",
    "    A.InvertImg(p=.001),\n",
    "    A.ISONoise(p=0.5),\n",
    "    # A.HueSaturationValue(p=0.1),\n",
    "    A.GaussNoise(p=0.5),\n",
    "    A.RandomSunFlare(p=0.2)\n",
    "])\n",
    "\n",
    "generate_random_field()"
   ]
  },
  {
   "cell_type": "code",
   "execution_count": 63,
   "metadata": {},
   "outputs": [],
   "source": [
    "transform = A.Compose([\n",
    "        # A.RandomRotate90(),\n",
    "        # A.Flip(),\n",
    "        # A.Transpose(),\n",
    "        A.ImageCompression(quality_lower=50, p=0.5),\n",
    "        A.OneOf([\n",
    "            # A.IAAAdditiveGaussianNoise(),\n",
    "            A.GaussNoise(p=0.8),\n",
    "            A.ISONoise(p=0.2),\n",
    "            A.MultiplicativeNoise(p=.05)\n",
    "        ], p=0.5),\n",
    "        A.OneOf([\n",
    "            A.MotionBlur(p=.2),\n",
    "            A.MedianBlur(blur_limit=3, p=0.1),\n",
    "            A.Blur(blur_limit=3, p=0.1),\n",
    "        ], p=0.2),\n",
    "        A.ShiftScaleRotate(shift_limit=0.0625, scale_limit=0.2, rotate_limit=30, p=0.3),\n",
    "        A.OneOf([\n",
    "            A.OpticalDistortion(p=0.5),\n",
    "            A.GridDistortion(p=.5),\n",
    "            A.PiecewiseAffine(p=0.5),\n",
    "        ], p=0.4),\n",
    "        A.OneOf([\n",
    "            A.CLAHE(clip_limit=2),\n",
    "            A.Sharpen(),\n",
    "            A.Emboss(),\n",
    "            A.RandomBrightnessContrast(),            \n",
    "        ], p=0.3),\n",
    "        A.OneOf([\n",
    "            A.RandomFog(),\n",
    "            A.RandomRain(),\n",
    "            A.RandomSnow(),\n",
    "            A.RandomSunFlare(),            \n",
    "        ], p=0.3),\n",
    "        A.HueSaturationValue(p=0.3),\n",
    "        A.ToGray(always_apply=True)\n",
    "    ])\n",
    "# random.seed(42) "
   ]
  },
  {
   "cell_type": "code",
   "execution_count": 64,
   "metadata": {},
   "outputs": [],
   "source": [
    "fonts = [\n",
    "    cv2.FONT_HERSHEY_SIMPLEX,\n",
    "    cv2.FONT_HERSHEY_COMPLEX,\n",
    "    cv2.FONT_HERSHEY_PLAIN,\n",
    "    cv2.FONT_HERSHEY_DUPLEX,\n",
    "    cv2.FONT_HERSHEY_TRIPLEX,\n",
    "    cv2.FONT_HERSHEY_COMPLEX_SMALL,\n",
    "    cv2.FONT_HERSHEY_SCRIPT_COMPLEX,\n",
    "    cv2.FONT_HERSHEY_SCRIPT_COMPLEX,\n",
    "    cv2.FONT_ITALIC]"
   ]
  },
  {
   "cell_type": "code",
   "execution_count": 40,
   "metadata": {},
   "outputs": [],
   "source": [
    "\n",
    "for filename in text_locations:\n",
    "    if text_locations[filename] != {}:\n",
    "        img = cv2.imread(template_directory+ '/'+filename, 1)\n",
    "        img = cv2.resize(img, (850, 1100)) \n",
    "\n",
    "        doc_info = text_locations[filename]\n",
    "        for loc in doc_info:\n",
    "            font = random.choice(fonts)\n",
    "            cv2.putText(img, generate_random_field(),\n",
    "                        (int(loc['x']),int(loc['y'])), font,\n",
    "\t\t\t\t\t    0.75, (255, 0, 0), 2)\n",
    "\n",
    "        transformed = transform(image=img)\n",
    "        img = transformed['image']\n",
    "        cv2.imshow('image', img)\n",
    "        cv2.waitKey(0)\n",
    "        cv2.destroyAllWindows()\n"
   ]
  },
  {
   "cell_type": "code",
   "execution_count": 69,
   "metadata": {},
   "outputs": [
    {
     "name": "stdout",
     "output_type": "stream",
     "text": [
      "4\r"
     ]
    }
   ],
   "source": [
    "backgrounds = []\n",
    "for filename in os.listdir(backgrounds_dir):\n",
    "    backgrounds.append(cv2.imread(backgrounds_dir+ '/'+filename, 1))\n",
    "\n",
    "for filename in text_locations:\n",
    "    if text_locations[filename] != {}:\n",
    "        image = cv2.imread(template_directory+ '/'+filename, 1)\n",
    "        image = cv2.resize(image, (850, 1100)) \n",
    "\n",
    "        doc_info = text_locations[filename]\n",
    "        for i in range(5):\n",
    "            large_img = random.choices(backgrounds)\n",
    "            img = image\n",
    "            for loc in doc_info:\n",
    "                font = random.choice(fonts)\n",
    "                cv2.putText(img, generate_random_field(),\n",
    "                            (int(loc['x']),int(loc['y'])), font,\n",
    "                            0.75, (255, 0, 0), 2)\n",
    "            # resize(210,275)\n",
    "            x_size = random.randint(-200,400)\n",
    "            y_size = random.randint(-200,400)\n",
    "            x_size = x_size if x_size > 0 else 0\n",
    "            y_size = y_size if y_size > 0 else 0\n",
    "            x_offset = int(x_size/2)\n",
    "            y_offset = int(y_size/2)\n",
    "            background_img = cv2.resize(background_img, (850+x_size, 1100+y_size)) \n",
    "\n",
    "            background_img[y_offset:y_offset+img.shape[0], x_offset:x_offset+img.shape[1]] = img\n",
    "            transformed = transform(image=cv2.resize(img, (210,275)))\n",
    "            img = transformed['image']\n",
    "            # img = cv2.cvtColor(transformed['image'], cv2.COLOR_BGR2GRAY)\n",
    "            # img = cv2.adaptiveThreshold(img,255,cv2.ADAPTIVE_THRESH_GAUSSIAN_C,cv2.THRESH_BINARY,11,2)\n",
    "            cv2.imwrite(f'test_data/{filename}_{i}', img)\n",
    "            print(i,end='\\r')\n"
   ]
  },
  {
   "cell_type": "code",
   "execution_count": 78,
   "metadata": {},
   "outputs": [],
   "source": [
    "backgrounds_dir = 'image_backgrounds'\n",
    "\n",
    "for filename in os.listdir(backgrounds_dir):\n",
    "    background_img = cv2.imread(backgrounds_dir+ '/'+filename, 1)\n",
    "    x_size = random.randint(-200,200)\n",
    "    y_size = random.randint(-200,200)\n",
    "    x_size = x_size if x_size > 0 else 0\n",
    "    y_size = y_size if y_size > 0 else 0\n",
    "    x_offset = int(x_size/2)\n",
    "    y_offset = int(y_size/2)\n",
    "    background_img = cv2.resize(background_img, (850+x_size, 1100+y_size)) \n",
    "\n",
    "    out = background_img\n",
    "    out[y_offset:y_offset+img.shape[0], x_offset:x_offset+img.shape[1]] = img\n",
    "    cv2.imshow('image', background_img)\n",
    "    cv2.waitKey(0)\n",
    "    cv2.destroyAllWindows()"
   ]
  },
  {
   "cell_type": "code",
   "execution_count": null,
   "metadata": {},
   "outputs": [],
   "source": [
    "l_img[y_offset:y_offset+s_img.shape[0], x_offset:x_offset+s_img.shape[1]] = s_img"
   ]
  },
  {
   "cell_type": "code",
   "execution_count": 75,
   "metadata": {},
   "outputs": [
    {
     "data": {
      "text/plain": [
       "0.0"
      ]
     },
     "execution_count": 75,
     "metadata": {},
     "output_type": "execute_result"
    }
   ],
   "source": [
    "0/2"
   ]
  }
 ],
 "metadata": {
  "kernelspec": {
   "display_name": "Python 3.10.4 ('classification')",
   "language": "python",
   "name": "python3"
  },
  "language_info": {
   "codemirror_mode": {
    "name": "ipython",
    "version": 3
   },
   "file_extension": ".py",
   "mimetype": "text/x-python",
   "name": "python",
   "nbconvert_exporter": "python",
   "pygments_lexer": "ipython3",
   "version": "3.10.5"
  },
  "orig_nbformat": 4,
  "vscode": {
   "interpreter": {
    "hash": "5f0e1bddb7ed37f67f576e4a6a21b2408ebab9a006050dc6d038d31036c144c3"
   }
  }
 },
 "nbformat": 4,
 "nbformat_minor": 2
}
