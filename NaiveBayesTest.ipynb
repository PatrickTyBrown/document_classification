{
 "cells": [
  {
   "cell_type": "code",
   "execution_count": 18,
   "metadata": {},
   "outputs": [],
   "source": [
    "import numpy as np\n",
    "import pandas as pd\n",
    "import matplotlib.pyplot as plt\n",
    "from sklearn.model_selection import train_test_split, GridSearchCV\n",
    "from sklearn.metrics import precision_score, recall_score, precision_recall_curve,f1_score, confusion_matrix, accuracy_score\n",
    "from sklearn.linear_model import LogisticRegression\n",
    "from sklearn.neighbors import KNeighborsClassifier\n",
    "from sklearn.tree import DecisionTreeClassifier\n",
    "from sklearn.naive_bayes import GaussianNB\n",
    "from sklearn.ensemble import RandomForestClassifier\n",
    "from sklearn.ensemble import VotingClassifier\n",
    "from mlxtend.classifier import StackingClassifier\n",
    "from sklearn.naive_bayes import BernoulliNB \n",
    "import xgboost as xgb"
   ]
  },
  {
   "cell_type": "markdown",
   "metadata": {},
   "source": [
    "### First Let's load our data.\n",
    "Starting with the smallest dataset for simplicity"
   ]
  },
  {
   "cell_type": "code",
   "execution_count": 13,
   "metadata": {},
   "outputs": [
    {
     "name": "stdout",
     "output_type": "stream",
     "text": [
      "(50000, 57750)\n",
      "(50000,)\n"
     ]
    }
   ],
   "source": [
    "x = np.memmap('data_full/test_binary_data.npy',mode='r', shape = (50000,275*210))\n",
    "# x = np.load('data/gray_data_20')\n",
    "y = np.memmap('data/test_target.npy', mode='r', shape = (50000,))\n",
    "# x_test = np.memmap('data/test_gray_data_360.npy', mode='r', shape = (50000,360))\n",
    "# y_test = np.memmap('data/test_target.npy', mode='r', shape = (50000))\n",
    "print(x.shape)\n",
    "print(y.shape)\n",
    "x = pd.DataFrame(x)\n",
    "y = pd.DataFrame(y)\n",
    "# y = y == 2\n",
    "# y = y.astype(int)\n",
    "# y_test = y_test == 2\n",
    "# y_test = y_test.astype(int)\n",
    "# x = x/255\n",
    "# x_test = x_test/255"
   ]
  },
  {
   "cell_type": "markdown",
   "metadata": {},
   "source": [
    "\"target_data\": {\n",
    "\"Inco\": 2, \n",
    "\"Teac\": 1, \n",
    "\"Cons\": 0, \n",
    "\"Publ\": 4, \n",
    "\"Econ\": 3}}"
   ]
  },
  {
   "cell_type": "code",
   "execution_count": 14,
   "metadata": {},
   "outputs": [
    {
     "name": "stdout",
     "output_type": "stream",
     "text": [
      "(30000, 57750)\n",
      "(20000,)\n"
     ]
    }
   ],
   "source": [
    "X_train, x_test, y_train, y_test = train_test_split(x, y[0], test_size=0.4, stratify=y)\n",
    "print(X_train.shape)\n",
    "print(y_test.shape)"
   ]
  },
  {
   "cell_type": "code",
   "execution_count": 17,
   "metadata": {},
   "outputs": [
    {
     "data": {
      "text/html": [
       "<div>\n",
       "<style scoped>\n",
       "    .dataframe tbody tr th:only-of-type {\n",
       "        vertical-align: middle;\n",
       "    }\n",
       "\n",
       "    .dataframe tbody tr th {\n",
       "        vertical-align: top;\n",
       "    }\n",
       "\n",
       "    .dataframe thead th {\n",
       "        text-align: right;\n",
       "    }\n",
       "</style>\n",
       "<table border=\"1\" class=\"dataframe\">\n",
       "  <thead>\n",
       "    <tr style=\"text-align: right;\">\n",
       "      <th></th>\n",
       "      <th>0</th>\n",
       "      <th>1</th>\n",
       "      <th>2</th>\n",
       "      <th>3</th>\n",
       "      <th>4</th>\n",
       "      <th>5</th>\n",
       "      <th>6</th>\n",
       "      <th>7</th>\n",
       "      <th>8</th>\n",
       "      <th>9</th>\n",
       "      <th>...</th>\n",
       "      <th>57740</th>\n",
       "      <th>57741</th>\n",
       "      <th>57742</th>\n",
       "      <th>57743</th>\n",
       "      <th>57744</th>\n",
       "      <th>57745</th>\n",
       "      <th>57746</th>\n",
       "      <th>57747</th>\n",
       "      <th>57748</th>\n",
       "      <th>57749</th>\n",
       "    </tr>\n",
       "  </thead>\n",
       "  <tbody>\n",
       "    <tr>\n",
       "      <th>3567</th>\n",
       "      <td>1</td>\n",
       "      <td>0</td>\n",
       "      <td>1</td>\n",
       "      <td>1</td>\n",
       "      <td>1</td>\n",
       "      <td>1</td>\n",
       "      <td>0</td>\n",
       "      <td>1</td>\n",
       "      <td>0</td>\n",
       "      <td>1</td>\n",
       "      <td>...</td>\n",
       "      <td>1</td>\n",
       "      <td>1</td>\n",
       "      <td>1</td>\n",
       "      <td>1</td>\n",
       "      <td>1</td>\n",
       "      <td>1</td>\n",
       "      <td>1</td>\n",
       "      <td>1</td>\n",
       "      <td>1</td>\n",
       "      <td>1</td>\n",
       "    </tr>\n",
       "    <tr>\n",
       "      <th>40614</th>\n",
       "      <td>1</td>\n",
       "      <td>1</td>\n",
       "      <td>1</td>\n",
       "      <td>1</td>\n",
       "      <td>1</td>\n",
       "      <td>1</td>\n",
       "      <td>1</td>\n",
       "      <td>0</td>\n",
       "      <td>0</td>\n",
       "      <td>0</td>\n",
       "      <td>...</td>\n",
       "      <td>1</td>\n",
       "      <td>1</td>\n",
       "      <td>1</td>\n",
       "      <td>1</td>\n",
       "      <td>1</td>\n",
       "      <td>1</td>\n",
       "      <td>1</td>\n",
       "      <td>1</td>\n",
       "      <td>1</td>\n",
       "      <td>1</td>\n",
       "    </tr>\n",
       "    <tr>\n",
       "      <th>21837</th>\n",
       "      <td>1</td>\n",
       "      <td>1</td>\n",
       "      <td>1</td>\n",
       "      <td>0</td>\n",
       "      <td>0</td>\n",
       "      <td>0</td>\n",
       "      <td>1</td>\n",
       "      <td>1</td>\n",
       "      <td>1</td>\n",
       "      <td>0</td>\n",
       "      <td>...</td>\n",
       "      <td>1</td>\n",
       "      <td>1</td>\n",
       "      <td>1</td>\n",
       "      <td>1</td>\n",
       "      <td>1</td>\n",
       "      <td>1</td>\n",
       "      <td>1</td>\n",
       "      <td>1</td>\n",
       "      <td>1</td>\n",
       "      <td>1</td>\n",
       "    </tr>\n",
       "    <tr>\n",
       "      <th>5717</th>\n",
       "      <td>0</td>\n",
       "      <td>1</td>\n",
       "      <td>1</td>\n",
       "      <td>1</td>\n",
       "      <td>1</td>\n",
       "      <td>0</td>\n",
       "      <td>0</td>\n",
       "      <td>0</td>\n",
       "      <td>0</td>\n",
       "      <td>0</td>\n",
       "      <td>...</td>\n",
       "      <td>1</td>\n",
       "      <td>1</td>\n",
       "      <td>1</td>\n",
       "      <td>1</td>\n",
       "      <td>1</td>\n",
       "      <td>1</td>\n",
       "      <td>1</td>\n",
       "      <td>1</td>\n",
       "      <td>1</td>\n",
       "      <td>1</td>\n",
       "    </tr>\n",
       "    <tr>\n",
       "      <th>36659</th>\n",
       "      <td>1</td>\n",
       "      <td>1</td>\n",
       "      <td>0</td>\n",
       "      <td>0</td>\n",
       "      <td>0</td>\n",
       "      <td>1</td>\n",
       "      <td>1</td>\n",
       "      <td>0</td>\n",
       "      <td>0</td>\n",
       "      <td>0</td>\n",
       "      <td>...</td>\n",
       "      <td>0</td>\n",
       "      <td>1</td>\n",
       "      <td>1</td>\n",
       "      <td>1</td>\n",
       "      <td>0</td>\n",
       "      <td>0</td>\n",
       "      <td>0</td>\n",
       "      <td>1</td>\n",
       "      <td>1</td>\n",
       "      <td>1</td>\n",
       "    </tr>\n",
       "    <tr>\n",
       "      <th>5350</th>\n",
       "      <td>0</td>\n",
       "      <td>1</td>\n",
       "      <td>1</td>\n",
       "      <td>1</td>\n",
       "      <td>1</td>\n",
       "      <td>1</td>\n",
       "      <td>1</td>\n",
       "      <td>0</td>\n",
       "      <td>0</td>\n",
       "      <td>0</td>\n",
       "      <td>...</td>\n",
       "      <td>1</td>\n",
       "      <td>1</td>\n",
       "      <td>1</td>\n",
       "      <td>1</td>\n",
       "      <td>1</td>\n",
       "      <td>1</td>\n",
       "      <td>1</td>\n",
       "      <td>1</td>\n",
       "      <td>1</td>\n",
       "      <td>1</td>\n",
       "    </tr>\n",
       "    <tr>\n",
       "      <th>32415</th>\n",
       "      <td>1</td>\n",
       "      <td>1</td>\n",
       "      <td>1</td>\n",
       "      <td>1</td>\n",
       "      <td>1</td>\n",
       "      <td>0</td>\n",
       "      <td>0</td>\n",
       "      <td>0</td>\n",
       "      <td>1</td>\n",
       "      <td>1</td>\n",
       "      <td>...</td>\n",
       "      <td>1</td>\n",
       "      <td>0</td>\n",
       "      <td>0</td>\n",
       "      <td>1</td>\n",
       "      <td>0</td>\n",
       "      <td>0</td>\n",
       "      <td>0</td>\n",
       "      <td>1</td>\n",
       "      <td>1</td>\n",
       "      <td>1</td>\n",
       "    </tr>\n",
       "    <tr>\n",
       "      <th>25620</th>\n",
       "      <td>1</td>\n",
       "      <td>1</td>\n",
       "      <td>1</td>\n",
       "      <td>1</td>\n",
       "      <td>0</td>\n",
       "      <td>0</td>\n",
       "      <td>0</td>\n",
       "      <td>0</td>\n",
       "      <td>0</td>\n",
       "      <td>0</td>\n",
       "      <td>...</td>\n",
       "      <td>0</td>\n",
       "      <td>0</td>\n",
       "      <td>1</td>\n",
       "      <td>1</td>\n",
       "      <td>0</td>\n",
       "      <td>0</td>\n",
       "      <td>0</td>\n",
       "      <td>0</td>\n",
       "      <td>0</td>\n",
       "      <td>0</td>\n",
       "    </tr>\n",
       "    <tr>\n",
       "      <th>38928</th>\n",
       "      <td>0</td>\n",
       "      <td>1</td>\n",
       "      <td>0</td>\n",
       "      <td>0</td>\n",
       "      <td>0</td>\n",
       "      <td>0</td>\n",
       "      <td>0</td>\n",
       "      <td>0</td>\n",
       "      <td>0</td>\n",
       "      <td>0</td>\n",
       "      <td>...</td>\n",
       "      <td>0</td>\n",
       "      <td>0</td>\n",
       "      <td>0</td>\n",
       "      <td>0</td>\n",
       "      <td>0</td>\n",
       "      <td>0</td>\n",
       "      <td>0</td>\n",
       "      <td>0</td>\n",
       "      <td>1</td>\n",
       "      <td>0</td>\n",
       "    </tr>\n",
       "    <tr>\n",
       "      <th>14874</th>\n",
       "      <td>1</td>\n",
       "      <td>1</td>\n",
       "      <td>1</td>\n",
       "      <td>1</td>\n",
       "      <td>1</td>\n",
       "      <td>1</td>\n",
       "      <td>1</td>\n",
       "      <td>0</td>\n",
       "      <td>1</td>\n",
       "      <td>1</td>\n",
       "      <td>...</td>\n",
       "      <td>1</td>\n",
       "      <td>1</td>\n",
       "      <td>1</td>\n",
       "      <td>1</td>\n",
       "      <td>1</td>\n",
       "      <td>0</td>\n",
       "      <td>1</td>\n",
       "      <td>1</td>\n",
       "      <td>1</td>\n",
       "      <td>0</td>\n",
       "    </tr>\n",
       "  </tbody>\n",
       "</table>\n",
       "<p>10 rows × 57750 columns</p>\n",
       "</div>"
      ],
      "text/plain": [
       "       0      1      2      3      4      5      6      7      8      9      \\\n",
       "3567       1      0      1      1      1      1      0      1      0      1   \n",
       "40614      1      1      1      1      1      1      1      0      0      0   \n",
       "21837      1      1      1      0      0      0      1      1      1      0   \n",
       "5717       0      1      1      1      1      0      0      0      0      0   \n",
       "36659      1      1      0      0      0      1      1      0      0      0   \n",
       "5350       0      1      1      1      1      1      1      0      0      0   \n",
       "32415      1      1      1      1      1      0      0      0      1      1   \n",
       "25620      1      1      1      1      0      0      0      0      0      0   \n",
       "38928      0      1      0      0      0      0      0      0      0      0   \n",
       "14874      1      1      1      1      1      1      1      0      1      1   \n",
       "\n",
       "       ...  57740  57741  57742  57743  57744  57745  57746  57747  57748  \\\n",
       "3567   ...      1      1      1      1      1      1      1      1      1   \n",
       "40614  ...      1      1      1      1      1      1      1      1      1   \n",
       "21837  ...      1      1      1      1      1      1      1      1      1   \n",
       "5717   ...      1      1      1      1      1      1      1      1      1   \n",
       "36659  ...      0      1      1      1      0      0      0      1      1   \n",
       "5350   ...      1      1      1      1      1      1      1      1      1   \n",
       "32415  ...      1      0      0      1      0      0      0      1      1   \n",
       "25620  ...      0      0      1      1      0      0      0      0      0   \n",
       "38928  ...      0      0      0      0      0      0      0      0      1   \n",
       "14874  ...      1      1      1      1      1      0      1      1      1   \n",
       "\n",
       "       57749  \n",
       "3567       1  \n",
       "40614      1  \n",
       "21837      1  \n",
       "5717       1  \n",
       "36659      1  \n",
       "5350       1  \n",
       "32415      1  \n",
       "25620      0  \n",
       "38928      0  \n",
       "14874      0  \n",
       "\n",
       "[10 rows x 57750 columns]"
      ]
     },
     "execution_count": 17,
     "metadata": {},
     "output_type": "execute_result"
    }
   ],
   "source": [
    "X_train[-10:]"
   ]
  },
  {
   "cell_type": "code",
   "execution_count": 16,
   "metadata": {},
   "outputs": [],
   "source": [
    "chunk = 1000\n",
    "for i in range(X_train.shape[0]//chunk):\n",
    "    X_train[i*chunk:(i+1)*chunk] = X_train[i*chunk:(i+1)*chunk]/255\n",
    "for i in range(x_test.shape[0]//chunk):\n",
    "    x_test[i*chunk:(i+1)*chunk] = x_test[i*chunk:(i+1)*chunk]/255"
   ]
  },
  {
   "cell_type": "markdown",
   "metadata": {},
   "source": [
    "## Naive Bayes\n",
    "\n",
    "~~~\n",
    "Accuracy:\t0.2025\n",
    "Precision:\t0.2025738072573832\n",
    "Recall:\t0.20249999999999999\n",
    "F1:\t0.20229736964345638\n",
    "array([[2208, 2007, 1772, 2025, 1988],\n",
    "       [2150, 2057, 1745, 2094, 1954],\n",
    "       [2183, 1989, 1815, 2045, 1968],\n",
    "       [2207, 2052, 1764, 2063, 1914],\n",
    "       [2219, 1989, 1775, 2035, 1982]])\n",
    "~~~"
   ]
  },
  {
   "cell_type": "code",
   "execution_count": 19,
   "metadata": {},
   "outputs": [
    {
     "ename": "",
     "evalue": "",
     "output_type": "error",
     "traceback": [
      "\u001b[1;31mThe Kernel crashed while executing code in the the current cell or a previous cell. Please review the code in the cell(s) to identify a possible cause of the failure. Click <a href='https://aka.ms/vscodeJupyterKernelCrash'>here</a> for more info. View Jupyter <a href='command:jupyter.viewOutput'>log</a> for further details."
     ]
    },
    {
     "ename": "",
     "evalue": "",
     "output_type": "error",
     "traceback": [
      "\u001b[1;31mCanceled future for execute_request message before replies were done"
     ]
    }
   ],
   "source": [
    "nb = BernoulliNB()\n",
    "nb.fit(X_train, y_train)\n",
    "y_pred = nb.predict(x_test,)\n",
    "print(f'Accuracy:\\t{accuracy_score(y_test, y_pred)}')\n",
    "print(f'Precision:\\t{precision_score(y_test, y_pred, average=\"macro\")}')\n",
    "print(f'Recall:\\t{recall_score(y_test, y_pred, average=\"macro\")}')\n",
    "print(f'F1:\\t{f1_score(y_test, y_pred, average=\"macro\")}')\n",
    "confusion_matrix(y_test, y_pred)"
   ]
  },
  {
   "cell_type": "code",
   "execution_count": null,
   "metadata": {},
   "outputs": [],
   "source": []
  },
  {
   "cell_type": "markdown",
   "metadata": {},
   "source": [
    "## Ensemble of Models\n",
    "\n",
    "~~~\n",
    "Accuracy:\t0.2025\n",
    "Precision:\t0.2025738072573832\n",
    "Recall:\t0.20249999999999999\n",
    "F1:\t0.20229736964345638\n",
    "array([[2208, 2007, 1772, 2025, 1988],\n",
    "       [2150, 2057, 1745, 2094, 1954],\n",
    "       [2183, 1989, 1815, 2045, 1968],\n",
    "       [2207, 2052, 1764, 2063, 1914],\n",
    "       [2219, 1989, 1775, 2035, 1982]])\n",
    "~~~"
   ]
  },
  {
   "cell_type": "code",
   "execution_count": 16,
   "metadata": {},
   "outputs": [
    {
     "name": "stdout",
     "output_type": "stream",
     "text": [
      "Accuracy:\t0.80428\n",
      "Precision:\t0.8971443935927617\n",
      "Recall:\t0.510775\n",
      "F1:\t0.4666404916100489\n"
     ]
    },
    {
     "data": {
      "text/plain": [
       "array([[39998,     2],\n",
       "       [ 9784,   216]])"
      ]
     },
     "execution_count": 16,
     "metadata": {},
     "output_type": "execute_result"
    }
   ],
   "source": [
    "# create voting classifier\n",
    "model_list = [\n",
    "    ('knn', knn),\n",
    "    ('lr', lr),\n",
    "    ('dt', dt),\n",
    "    ('rf', rf),\n",
    "    ('nb', gnb)\n",
    "]\n",
    "voting_classifer = VotingClassifier(estimators=model_list,\n",
    "                                    voting='hard', #<-- sklearn calls this hard voting\n",
    "                                    n_jobs=-1)\n",
    "voting_classifer.fit(X_train, y_train)\n",
    "y_pred = voting_classifer.predict(x_test)\n",
    "print(f'Accuracy:\\t{accuracy_score(y_test, y_pred)}')\n",
    "print(f'Precision:\\t{precision_score(y_test, y_pred, average=\"macro\")}')\n",
    "print(f'Recall:\\t{recall_score(y_test, y_pred, average=\"macro\")}')\n",
    "print(f'F1:\\t{f1_score(y_test, y_pred, average=\"macro\")}')\n",
    "confusion_matrix(y_test, y_pred)\n"
   ]
  },
  {
   "cell_type": "code",
   "execution_count": 17,
   "metadata": {},
   "outputs": [
    {
     "name": "stdout",
     "output_type": "stream",
     "text": [
      "Accuracy:\t0.80568\n",
      "Precision:\t0.8530646696122672\n",
      "Recall:\t0.5155125\n",
      "F1:\t0.4766184202795973\n"
     ]
    },
    {
     "data": {
      "text/plain": [
       "array([[39965,    35],\n",
       "       [ 9681,   319]])"
      ]
     },
     "execution_count": 17,
     "metadata": {},
     "output_type": "execute_result"
    }
   ],
   "source": [
    "\n",
    "voting_classifer2 = VotingClassifier(estimators=model_list,\n",
    "                                    voting='soft', #<-- sklearn calls this hard voting\n",
    "                                    n_jobs=-1)\n",
    "voting_classifer2.fit(X_train, y_train)\n",
    "y_pred = voting_classifer2.predict(x_test)\n",
    "print(f'Accuracy:\\t{accuracy_score(y_test, y_pred)}')\n",
    "print(f'Precision:\\t{precision_score(y_test, y_pred, average=\"macro\")}')\n",
    "print(f'Recall:\\t{recall_score(y_test, y_pred, average=\"macro\")}')\n",
    "print(f'F1:\\t{f1_score(y_test, y_pred, average=\"macro\")}')\n",
    "confusion_matrix(y_test, y_pred)\n"
   ]
  },
  {
   "cell_type": "code",
   "execution_count": 45,
   "metadata": {},
   "outputs": [
    {
     "name": "stderr",
     "output_type": "stream",
     "text": [
      "/home/patrick/anaconda3/envs/classification/lib/python3.10/site-packages/sklearn/linear_model/_logistic.py:814: ConvergenceWarning: lbfgs failed to converge (status=1):\n",
      "STOP: TOTAL NO. of ITERATIONS REACHED LIMIT.\n",
      "\n",
      "Increase the number of iterations (max_iter) or scale the data as shown in:\n",
      "    https://scikit-learn.org/stable/modules/preprocessing.html\n",
      "Please also refer to the documentation for alternative solver options:\n",
      "    https://scikit-learn.org/stable/modules/linear_model.html#logistic-regression\n",
      "  n_iter_i = _check_optimize_result(\n"
     ]
    },
    {
     "name": "stdout",
     "output_type": "stream",
     "text": [
      "Accuracy:\t0.20942\n",
      "Precision:\t0.21746255034331302\n",
      "Recall:\t0.20942\n",
      "F1:\t0.19530824327728674\n"
     ]
    },
    {
     "data": {
      "text/plain": [
       "array([[1030, 2684, 3488, 2215,  583],\n",
       "       [ 950, 2696, 3513, 2222,  619],\n",
       "       [ 868, 2793, 3491, 2244,  604],\n",
       "       [ 853, 2554, 3457, 2460,  676],\n",
       "       [ 826, 2532, 3486, 2362,  794]])"
      ]
     },
     "execution_count": 45,
     "metadata": {},
     "output_type": "execute_result"
    }
   ],
   "source": [
    "model_list = [knn,lr,dt,rf]\n",
    "stacked = StackingClassifier(\n",
    "    classifiers=model_list, meta_classifier=LogisticRegression(n_jobs=-1), use_probas=False)\n",
    "stacked.fit(X_train, y_train)\n",
    "y_pred = stacked.predict(x_test)\n",
    "print(f'Accuracy:\\t{accuracy_score(y_test, y_pred)}')\n",
    "print(f'Precision:\\t{precision_score(y_test, y_pred, average=\"macro\")}')\n",
    "print(f'Recall:\\t{recall_score(y_test, y_pred, average=\"macro\")}')\n",
    "print(f'F1:\\t{f1_score(y_test, y_pred, average=\"macro\")}')\n",
    "confusion_matrix(y_test, y_pred)"
   ]
  },
  {
   "cell_type": "markdown",
   "metadata": {},
   "source": [
    "### More Evaluation\n"
   ]
  },
  {
   "cell_type": "code",
   "execution_count": 18,
   "metadata": {},
   "outputs": [],
   "source": [
    "y_pred = voting_classifer2.predict_proba(x_test)"
   ]
  },
  {
   "cell_type": "code",
   "execution_count": 26,
   "metadata": {},
   "outputs": [
    {
     "data": {
      "text/plain": [
       "Text(0.5, 1.0, 'Precision and Recall Curves')"
      ]
     },
     "execution_count": 26,
     "metadata": {},
     "output_type": "execute_result"
    },
    {
     "data": {
      "image/png": "[encoded data removed]",
      "text/plain": [
       "<Figure size 480x320 with 1 Axes>"
      ]
     },
     "metadata": {
      "needs_background": "light"
     },
     "output_type": "display_data"
    }
   ],
   "source": [
    "precision_curve, recall_curve, threshold_curve = precision_recall_curve(y_test, y_pred[:,1] )\n",
    "\n",
    "plt.figure(dpi=80)\n",
    "plt.plot(threshold_curve, precision_curve[1:],label='precision')\n",
    "plt.plot(threshold_curve, recall_curve[1:], label='recall')\n",
    "plt.legend(loc='lower left')\n",
    "plt.xlabel('Threshold (above this probability, label as fraud)')\n",
    "plt.title('Precision and Recall Curves')"
   ]
  },
  {
   "cell_type": "code",
   "execution_count": 32,
   "metadata": {},
   "outputs": [
    {
     "name": "stdout",
     "output_type": "stream",
     "text": [
      "Accuracy:\t0.69186\n",
      "Precision:\t0.5224424924588862\n",
      "Recall:\t0.522825\n",
      "F1:\t0.5226151458480693\n"
     ]
    },
    {
     "data": {
      "text/plain": [
       "array([[32182,  7818],\n",
       "       [ 7589,  2411]])"
      ]
     },
     "execution_count": 32,
     "metadata": {},
     "output_type": "execute_result"
    }
   ],
   "source": [
    "y_pred2 = y_pred[:,1]>0.3\n",
    "\n",
    "print(f'Accuracy:\\t{accuracy_score(y_test, y_pred2)}')\n",
    "print(f'Precision:\\t{precision_score(y_test, y_pred2, average=\"macro\")}')\n",
    "print(f'Recall:\\t{recall_score(y_test, y_pred2, average=\"macro\")}')\n",
    "print(f'F1:\\t{f1_score(y_test, y_pred2, average=\"macro\")}')\n",
    "confusion_matrix(y_test, y_pred2)"
   ]
  }
 ],
 "metadata": {
  "kernelspec": {
   "display_name": "Python 3.10.5 ('classification')",
   "language": "python",
   "name": "python3"
  },
  "language_info": {
   "codemirror_mode": {
    "name": "ipython",
    "version": 3
   },
   "file_extension": ".py",
   "mimetype": "text/x-python",
   "name": "python",
   "nbconvert_exporter": "python",
   "pygments_lexer": "ipython3",
   "version": "3.10.5"
  },
  "orig_nbformat": 4,
  "vscode": {
   "interpreter": {
    "hash": "5f0e1bddb7ed37f67f576e4a6a21b2408ebab9a006050dc6d038d31036c144c3"
   }
  }
 },
 "nbformat": 4,
 "nbformat_minor": 2
}
