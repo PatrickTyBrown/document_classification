{
 "cells": [
  {
   "cell_type": "code",
   "execution_count": 1,
   "metadata": {},
   "outputs": [
    {
     "name": "stderr",
     "output_type": "stream",
     "text": [
      "/home/patrick/anaconda3/envs/classification/lib/python3.10/site-packages/xgboost/compat.py:36: FutureWarning: pandas.Int64Index is deprecated and will be removed from pandas in a future version. Use pandas.Index with the appropriate dtype instead.\n",
      "  from pandas import MultiIndex, Int64Index\n"
     ]
    }
   ],
   "source": [
    "import numpy as np\n",
    "import pandas as pd\n",
    "import matplotlib.pyplot as plt\n",
    "from sklearn.model_selection import train_test_split, GridSearchCV\n",
    "from sklearn.metrics import precision_score, recall_score, precision_recall_curve,f1_score, confusion_matrix, accuracy_score\n",
    "from sklearn.linear_model import LogisticRegression\n",
    "from sklearn.neighbors import KNeighborsClassifier\n",
    "from sklearn.tree import DecisionTreeClassifier\n",
    "from sklearn.naive_bayes import GaussianNB\n",
    "from sklearn.ensemble import RandomForestClassifier\n",
    "from sklearn.ensemble import VotingClassifier\n",
    "from mlxtend.classifier import StackingClassifier \n",
    "import xgboost as xgb"
   ]
  },
  {
   "cell_type": "markdown",
   "metadata": {},
   "source": [
    "### First Let's load our data.\n",
    "Starting with the smallest dataset for simplicity"
   ]
  },
  {
   "cell_type": "code",
   "execution_count": 2,
   "metadata": {},
   "outputs": [
    {
     "name": "stdout",
     "output_type": "stream",
     "text": [
      "(150000, 360)\n",
      "(150000,)\n"
     ]
    }
   ],
   "source": [
    "x = np.memmap('data/gray_data_360', mode='r', shape = (150000,360))\n",
    "# x = np.load('data/gray_data_20')\n",
    "y = np.memmap('data/image_target.npy', mode='r', shape = (150000,))\n",
    "x_test = np.memmap('data/test_gray_data_360.npy', mode='r', shape = (50000,360))\n",
    "y_test = np.memmap('data/test_target.npy', mode='r', shape = (50000))\n",
    "print(x.shape)\n",
    "print(y.shape)\n",
    "x = pd.DataFrame(x)\n",
    "y = pd.DataFrame(y)\n",
    "y = y == 2\n",
    "y = y.astype(int)\n",
    "y_test = y_test == 2\n",
    "y_test = y_test.astype(int)\n",
    "x = x/255\n",
    "x_test = x_test/255"
   ]
  },
  {
   "cell_type": "markdown",
   "metadata": {},
   "source": [
    "\"target_data\": {\n",
    "\"Inco\": 2, \n",
    "\"Teac\": 1, \n",
    "\"Cons\": 0, \n",
    "\"Publ\": 4, \n",
    "\"Econ\": 3}}"
   ]
  },
  {
   "cell_type": "code",
   "execution_count": 3,
   "metadata": {},
   "outputs": [
    {
     "name": "stdout",
     "output_type": "stream",
     "text": [
      "(120000, 360)\n",
      "(30000,)\n"
     ]
    }
   ],
   "source": [
    "X_train, X_val, y_train, y_val = train_test_split(x, y[0], test_size=0.2, stratify=y)\n",
    "print(X_train.shape)\n",
    "print(y_val.shape)"
   ]
  },
  {
   "cell_type": "markdown",
   "metadata": {},
   "source": [
    "## KNN\n",
    "K nearest neighbors\n",
    "\n",
    "~~~\n",
    "Accuracy:  0.218\n",
    "Precision:\t0.21878291972161956\n",
    "Recall:\t0.21799999999999997\n",
    "F1:\t0.2158672632176471\n",
    "array([[1658, 1364, 1110,  993,  875],\n",
    "       [1541, 1545, 1138,  965,  811],\n",
    "       [1557, 1340, 1286,  961,  856],\n",
    "       [1567, 1341, 1192, 1059,  841],\n",
    "       [1590, 1370, 1090,  958,  992]])\n",
    "~~~\n"
   ]
  },
  {
   "cell_type": "code",
   "execution_count": null,
   "metadata": {},
   "outputs": [
    {
     "name": "stdout",
     "output_type": "stream",
     "text": [
      "Accuracy:\t0.77944\n",
      "Precision:\t0.5812030193416076\n",
      "Recall:\t0.5326375\n",
      "F1:\t0.526447277173356\n"
     ]
    },
    {
     "data": {
      "text/plain": [
       "array([[37759,  2241],\n",
       "       [ 8787,  1213]])"
      ]
     },
     "execution_count": 4,
     "metadata": {},
     "output_type": "execute_result"
    }
   ],
   "source": [
    "knn = KNeighborsClassifier(n_neighbors=10, n_jobs=-1)\n",
    "knn.fit(X_train, y_train)\n",
    "y_pred = knn.predict(x_test,)\n",
    "print(f'Accuracy:\\t{accuracy_score(y_test, y_pred)}')\n",
    "print(f'Precision:\\t{precision_score(y_test, y_pred, average=\"macro\")}')\n",
    "print(f'Recall:\\t{recall_score(y_test, y_pred, average=\"macro\")}')\n",
    "print(f'F1:\\t{f1_score(y_test, y_pred, average=\"macro\")}')\n",
    "confusion_matrix(y_test, y_pred)"
   ]
  },
  {
   "cell_type": "markdown",
   "metadata": {},
   "source": [
    "## Logistic Regression\n",
    "\n",
    "~~~\n",
    "Accuracy:\t0.20534\n",
    "Precision:\t0.20556761017314962\n",
    "Recall:\t0.20534\n",
    "F1:\t0.20329858294811992\n",
    "array([[1883, 2415, 2303, 2030, 1369],\n",
    "       [1716, 2481, 2369, 2067, 1367],\n",
    "       [1721, 2372, 2430, 2124, 1353],\n",
    "       [1661, 2522, 2348, 2085, 1384],\n",
    "       [1718, 2400, 2401, 2093, 1388]])\n",
    "~~~\n"
   ]
  },
  {
   "cell_type": "code",
   "execution_count": 5,
   "metadata": {},
   "outputs": [
    {
     "name": "stdout",
     "output_type": "stream",
     "text": [
      "Accuracy:\t0.8041\n",
      "Precision:\t0.9016467516818958\n",
      "Recall:\t0.51025\n",
      "F1:\t0.4655472933489775\n"
     ]
    },
    {
     "data": {
      "text/plain": [
       "array([[40000,     0],\n",
       "       [ 9795,   205]])"
      ]
     },
     "execution_count": 5,
     "metadata": {},
     "output_type": "execute_result"
    }
   ],
   "source": [
    "lr = LogisticRegression()\n",
    "lr.fit(X_train, y_train)\n",
    "y_pred = lr.predict(x_test,)\n",
    "print(f'Accuracy:\\t{accuracy_score(y_test, y_pred)}')\n",
    "print(f'Precision:\\t{precision_score(y_test, y_pred, average=\"macro\")}')\n",
    "print(f'Recall:\\t{recall_score(y_test, y_pred, average=\"macro\")}')\n",
    "print(f'F1:\\t{f1_score(y_test, y_pred, average=\"macro\")}')\n",
    "confusion_matrix(y_test, y_pred)"
   ]
  },
  {
   "cell_type": "code",
   "execution_count": 6,
   "metadata": {},
   "outputs": [
    {
     "data": {
      "text/plain": [
       "GridSearchCV(cv=3, estimator=LogisticRegression(),\n",
       "             param_grid={'C': array([1.e-03, 1.e-02, 1.e-01, 1.e+00, 1.e+01, 1.e+02, 1.e+03]),\n",
       "                         'penalty': ['l2'],\n",
       "                         'solver': ['liblinear', 'newton-cg']},\n",
       "             scoring='f1_macro')"
      ]
     },
     "execution_count": 6,
     "metadata": {},
     "output_type": "execute_result"
    }
   ],
   "source": [
    "grid={\"C\":np.logspace(-3,3,7), \"penalty\":[\"l2\"], \"solver\":['liblinear','newton-cg']}\n",
    "lr=LogisticRegression()\n",
    "lr_cv=GridSearchCV(lr,grid,cv=3,scoring='f1_macro')\n",
    "lr_cv.fit(X_train, y_train)"
   ]
  },
  {
   "cell_type": "code",
   "execution_count": 7,
   "metadata": {},
   "outputs": [
    {
     "data": {
      "text/html": [
       "<div>\n",
       "<style scoped>\n",
       "    .dataframe tbody tr th:only-of-type {\n",
       "        vertical-align: middle;\n",
       "    }\n",
       "\n",
       "    .dataframe tbody tr th {\n",
       "        vertical-align: top;\n",
       "    }\n",
       "\n",
       "    .dataframe thead th {\n",
       "        text-align: right;\n",
       "    }\n",
       "</style>\n",
       "<table border=\"1\" class=\"dataframe\">\n",
       "  <thead>\n",
       "    <tr style=\"text-align: right;\">\n",
       "      <th></th>\n",
       "      <th>mean_fit_time</th>\n",
       "      <th>std_fit_time</th>\n",
       "      <th>mean_score_time</th>\n",
       "      <th>std_score_time</th>\n",
       "      <th>param_C</th>\n",
       "      <th>param_penalty</th>\n",
       "      <th>param_solver</th>\n",
       "      <th>params</th>\n",
       "      <th>split0_test_score</th>\n",
       "      <th>split1_test_score</th>\n",
       "      <th>split2_test_score</th>\n",
       "      <th>mean_test_score</th>\n",
       "      <th>std_test_score</th>\n",
       "      <th>rank_test_score</th>\n",
       "    </tr>\n",
       "  </thead>\n",
       "  <tbody>\n",
       "    <tr>\n",
       "      <th>8</th>\n",
       "      <td>3.875774</td>\n",
       "      <td>0.118141</td>\n",
       "      <td>0.025798</td>\n",
       "      <td>0.001195</td>\n",
       "      <td>10.0</td>\n",
       "      <td>l2</td>\n",
       "      <td>liblinear</td>\n",
       "      <td>{'C': 10.0, 'penalty': 'l2', 'solver': 'liblin...</td>\n",
       "      <td>0.467689</td>\n",
       "      <td>0.465926</td>\n",
       "      <td>0.465295</td>\n",
       "      <td>0.466303</td>\n",
       "      <td>0.001013</td>\n",
       "      <td>1</td>\n",
       "    </tr>\n",
       "    <tr>\n",
       "      <th>9</th>\n",
       "      <td>4.322895</td>\n",
       "      <td>0.199139</td>\n",
       "      <td>0.025138</td>\n",
       "      <td>0.001296</td>\n",
       "      <td>10.0</td>\n",
       "      <td>l2</td>\n",
       "      <td>newton-cg</td>\n",
       "      <td>{'C': 10.0, 'penalty': 'l2', 'solver': 'newton...</td>\n",
       "      <td>0.467689</td>\n",
       "      <td>0.465926</td>\n",
       "      <td>0.465295</td>\n",
       "      <td>0.466303</td>\n",
       "      <td>0.001013</td>\n",
       "      <td>1</td>\n",
       "    </tr>\n",
       "    <tr>\n",
       "      <th>10</th>\n",
       "      <td>3.855520</td>\n",
       "      <td>0.100697</td>\n",
       "      <td>0.027524</td>\n",
       "      <td>0.000378</td>\n",
       "      <td>100.0</td>\n",
       "      <td>l2</td>\n",
       "      <td>liblinear</td>\n",
       "      <td>{'C': 100.0, 'penalty': 'l2', 'solver': 'libli...</td>\n",
       "      <td>0.467689</td>\n",
       "      <td>0.465926</td>\n",
       "      <td>0.465295</td>\n",
       "      <td>0.466303</td>\n",
       "      <td>0.001013</td>\n",
       "      <td>1</td>\n",
       "    </tr>\n",
       "    <tr>\n",
       "      <th>11</th>\n",
       "      <td>4.002693</td>\n",
       "      <td>0.207720</td>\n",
       "      <td>0.023015</td>\n",
       "      <td>0.000300</td>\n",
       "      <td>100.0</td>\n",
       "      <td>l2</td>\n",
       "      <td>newton-cg</td>\n",
       "      <td>{'C': 100.0, 'penalty': 'l2', 'solver': 'newto...</td>\n",
       "      <td>0.467689</td>\n",
       "      <td>0.465926</td>\n",
       "      <td>0.465295</td>\n",
       "      <td>0.466303</td>\n",
       "      <td>0.001013</td>\n",
       "      <td>1</td>\n",
       "    </tr>\n",
       "    <tr>\n",
       "      <th>12</th>\n",
       "      <td>3.809236</td>\n",
       "      <td>0.010547</td>\n",
       "      <td>0.025561</td>\n",
       "      <td>0.001042</td>\n",
       "      <td>1000.0</td>\n",
       "      <td>l2</td>\n",
       "      <td>liblinear</td>\n",
       "      <td>{'C': 1000.0, 'penalty': 'l2', 'solver': 'libl...</td>\n",
       "      <td>0.467689</td>\n",
       "      <td>0.465926</td>\n",
       "      <td>0.465295</td>\n",
       "      <td>0.466303</td>\n",
       "      <td>0.001013</td>\n",
       "      <td>1</td>\n",
       "    </tr>\n",
       "  </tbody>\n",
       "</table>\n",
       "</div>"
      ],
      "text/plain": [
       "    mean_fit_time  std_fit_time  mean_score_time  std_score_time param_C  \\\n",
       "8        3.875774      0.118141         0.025798        0.001195    10.0   \n",
       "9        4.322895      0.199139         0.025138        0.001296    10.0   \n",
       "10       3.855520      0.100697         0.027524        0.000378   100.0   \n",
       "11       4.002693      0.207720         0.023015        0.000300   100.0   \n",
       "12       3.809236      0.010547         0.025561        0.001042  1000.0   \n",
       "\n",
       "   param_penalty param_solver  \\\n",
       "8             l2    liblinear   \n",
       "9             l2    newton-cg   \n",
       "10            l2    liblinear   \n",
       "11            l2    newton-cg   \n",
       "12            l2    liblinear   \n",
       "\n",
       "                                               params  split0_test_score  \\\n",
       "8   {'C': 10.0, 'penalty': 'l2', 'solver': 'liblin...           0.467689   \n",
       "9   {'C': 10.0, 'penalty': 'l2', 'solver': 'newton...           0.467689   \n",
       "10  {'C': 100.0, 'penalty': 'l2', 'solver': 'libli...           0.467689   \n",
       "11  {'C': 100.0, 'penalty': 'l2', 'solver': 'newto...           0.467689   \n",
       "12  {'C': 1000.0, 'penalty': 'l2', 'solver': 'libl...           0.467689   \n",
       "\n",
       "    split1_test_score  split2_test_score  mean_test_score  std_test_score  \\\n",
       "8            0.465926           0.465295         0.466303        0.001013   \n",
       "9            0.465926           0.465295         0.466303        0.001013   \n",
       "10           0.465926           0.465295         0.466303        0.001013   \n",
       "11           0.465926           0.465295         0.466303        0.001013   \n",
       "12           0.465926           0.465295         0.466303        0.001013   \n",
       "\n",
       "    rank_test_score  \n",
       "8                 1  \n",
       "9                 1  \n",
       "10                1  \n",
       "11                1  \n",
       "12                1  "
      ]
     },
     "execution_count": 7,
     "metadata": {},
     "output_type": "execute_result"
    }
   ],
   "source": [
    "res = pd.DataFrame(lr_cv.cv_results_)\n",
    "res.sort_values(by='rank_test_score', ascending=True).head()"
   ]
  },
  {
   "cell_type": "code",
   "execution_count": null,
   "metadata": {},
   "outputs": [
    {
     "name": "stdout",
     "output_type": "stream",
     "text": [
      "Accuracy:\t0.22542\n",
      "Precision:\t0.2254166168175497\n",
      "Recall:\t0.22542\n",
      "F1:\t0.2253968045432373\n"
     ]
    },
    {
     "data": {
      "text/plain": [
       "array([[2162, 2033, 1902, 1918, 1985],\n",
       "       [1840, 2305, 1941, 1966, 1948],\n",
       "       [1940, 2027, 2243, 1851, 1939],\n",
       "       [1917, 1954, 1948, 2247, 1934],\n",
       "       [1923, 1994, 1928, 1841, 2314]])"
      ]
     },
     "execution_count": 41,
     "metadata": {},
     "output_type": "execute_result"
    }
   ],
   "source": [
    "lr = LogisticRegression(C=10,penalty='l2',solver='newton-cg')\n",
    "lr.fit(X_train, y_train)\n",
    "y_pred = lr.predict(x_test,)\n",
    "print(f'Accuracy:\\t{accuracy_score(y_test, y_pred)}')\n",
    "print(f'Precision:\\t{precision_score(y_test, y_pred, average=\"macro\")}')\n",
    "print(f'Recall:\\t{recall_score(y_test, y_pred, average=\"macro\")}')\n",
    "print(f'F1:\\t{f1_score(y_test, y_pred, average=\"macro\")}')\n",
    "confusion_matrix(y_test, y_pred)"
   ]
  },
  {
   "cell_type": "markdown",
   "metadata": {},
   "source": [
    "## Decision Tree\n",
    "\n",
    "~~~\n",
    "Accuracy:\t0.20046\n",
    "Precision:\t0.20043461791314954\n",
    "Recall:\t0.20046\n",
    "F1:\t0.20025358642806665\n",
    "array([[2236, 2066, 2003, 1891, 1804],\n",
    "       [2183, 2051, 1982, 1969, 1815],\n",
    "       [2319, 1968, 1953, 1921, 1839],\n",
    "       [2110, 2065, 2062, 1937, 1826],\n",
    "       [2149, 2070, 2005, 1930, 1846]])\n",
    "~~~\n"
   ]
  },
  {
   "cell_type": "code",
   "execution_count": 7,
   "metadata": {},
   "outputs": [
    {
     "name": "stdout",
     "output_type": "stream",
     "text": [
      "Accuracy:\t0.66912\n",
      "Precision:\t0.4980389672980644\n",
      "Recall:\t0.497925\n",
      "F1:\t0.4977920285684647\n"
     ]
    },
    {
     "data": {
      "text/plain": [
       "array([[31330,  8670],\n",
       "       [ 7874,  2126]])"
      ]
     },
     "execution_count": 7,
     "metadata": {},
     "output_type": "execute_result"
    }
   ],
   "source": [
    "dt = DecisionTreeClassifier()\n",
    "dt.fit(X_train, y_train)\n",
    "y_pred = dt.predict(x_test,)\n",
    "print(f'Accuracy:\\t{accuracy_score(y_test, y_pred)}')\n",
    "print(f'Precision:\\t{precision_score(y_test, y_pred, average=\"macro\")}')\n",
    "print(f'Recall:\\t{recall_score(y_test, y_pred, average=\"macro\")}')\n",
    "print(f'F1:\\t{f1_score(y_test, y_pred, average=\"macro\")}')\n",
    "confusion_matrix(y_test, y_pred)"
   ]
  },
  {
   "cell_type": "code",
   "execution_count": 8,
   "metadata": {},
   "outputs": [
    {
     "ename": "KeyboardInterrupt",
     "evalue": "",
     "output_type": "error",
     "traceback": [
      "\u001b[0;31m---------------------------------------------------------------------------\u001b[0m",
      "\u001b[0;31mKeyboardInterrupt\u001b[0m                         Traceback (most recent call last)",
      "\u001b[1;32m/home/patrick/classification_project/modeling_tests copy.ipynb Cell 15\u001b[0m in \u001b[0;36m<cell line: 4>\u001b[0;34m()\u001b[0m\n\u001b[1;32m      <a href='vscode-notebook-cell:/home/patrick/classification_project/modeling_tests%20copy.ipynb#ch0000014?line=1'>2</a>\u001b[0m dt\u001b[39m=\u001b[39mDecisionTreeClassifier()\n\u001b[1;32m      <a href='vscode-notebook-cell:/home/patrick/classification_project/modeling_tests%20copy.ipynb#ch0000014?line=2'>3</a>\u001b[0m dt_cv\u001b[39m=\u001b[39mGridSearchCV(dt,grid,cv\u001b[39m=\u001b[39m\u001b[39m3\u001b[39m,scoring\u001b[39m=\u001b[39m\u001b[39m'\u001b[39m\u001b[39mf1_macro\u001b[39m\u001b[39m'\u001b[39m)\n\u001b[0;32m----> <a href='vscode-notebook-cell:/home/patrick/classification_project/modeling_tests%20copy.ipynb#ch0000014?line=3'>4</a>\u001b[0m dt_cv\u001b[39m.\u001b[39;49mfit(X_train, y_train)\n",
      "File \u001b[0;32m~/anaconda3/envs/classification/lib/python3.10/site-packages/sklearn/model_selection/_search.py:891\u001b[0m, in \u001b[0;36mBaseSearchCV.fit\u001b[0;34m(self, X, y, groups, **fit_params)\u001b[0m\n\u001b[1;32m    885\u001b[0m     results \u001b[39m=\u001b[39m \u001b[39mself\u001b[39m\u001b[39m.\u001b[39m_format_results(\n\u001b[1;32m    886\u001b[0m         all_candidate_params, n_splits, all_out, all_more_results\n\u001b[1;32m    887\u001b[0m     )\n\u001b[1;32m    889\u001b[0m     \u001b[39mreturn\u001b[39;00m results\n\u001b[0;32m--> 891\u001b[0m \u001b[39mself\u001b[39;49m\u001b[39m.\u001b[39;49m_run_search(evaluate_candidates)\n\u001b[1;32m    893\u001b[0m \u001b[39m# multimetric is determined here because in the case of a callable\u001b[39;00m\n\u001b[1;32m    894\u001b[0m \u001b[39m# self.scoring the return type is only known after calling\u001b[39;00m\n\u001b[1;32m    895\u001b[0m first_test_score \u001b[39m=\u001b[39m all_out[\u001b[39m0\u001b[39m][\u001b[39m\"\u001b[39m\u001b[39mtest_scores\u001b[39m\u001b[39m\"\u001b[39m]\n",
      "File \u001b[0;32m~/anaconda3/envs/classification/lib/python3.10/site-packages/sklearn/model_selection/_search.py:1392\u001b[0m, in \u001b[0;36mGridSearchCV._run_search\u001b[0;34m(self, evaluate_candidates)\u001b[0m\n\u001b[1;32m   1390\u001b[0m \u001b[39mdef\u001b[39;00m \u001b[39m_run_search\u001b[39m(\u001b[39mself\u001b[39m, evaluate_candidates):\n\u001b[1;32m   1391\u001b[0m     \u001b[39m\"\"\"Search all candidates in param_grid\"\"\"\u001b[39;00m\n\u001b[0;32m-> 1392\u001b[0m     evaluate_candidates(ParameterGrid(\u001b[39mself\u001b[39;49m\u001b[39m.\u001b[39;49mparam_grid))\n",
      "File \u001b[0;32m~/anaconda3/envs/classification/lib/python3.10/site-packages/sklearn/model_selection/_search.py:838\u001b[0m, in \u001b[0;36mBaseSearchCV.fit.<locals>.evaluate_candidates\u001b[0;34m(candidate_params, cv, more_results)\u001b[0m\n\u001b[1;32m    830\u001b[0m \u001b[39mif\u001b[39;00m \u001b[39mself\u001b[39m\u001b[39m.\u001b[39mverbose \u001b[39m>\u001b[39m \u001b[39m0\u001b[39m:\n\u001b[1;32m    831\u001b[0m     \u001b[39mprint\u001b[39m(\n\u001b[1;32m    832\u001b[0m         \u001b[39m\"\u001b[39m\u001b[39mFitting \u001b[39m\u001b[39m{0}\u001b[39;00m\u001b[39m folds for each of \u001b[39m\u001b[39m{1}\u001b[39;00m\u001b[39m candidates,\u001b[39m\u001b[39m\"\u001b[39m\n\u001b[1;32m    833\u001b[0m         \u001b[39m\"\u001b[39m\u001b[39m totalling \u001b[39m\u001b[39m{2}\u001b[39;00m\u001b[39m fits\u001b[39m\u001b[39m\"\u001b[39m\u001b[39m.\u001b[39mformat(\n\u001b[1;32m    834\u001b[0m             n_splits, n_candidates, n_candidates \u001b[39m*\u001b[39m n_splits\n\u001b[1;32m    835\u001b[0m         )\n\u001b[1;32m    836\u001b[0m     )\n\u001b[0;32m--> 838\u001b[0m out \u001b[39m=\u001b[39m parallel(\n\u001b[1;32m    839\u001b[0m     delayed(_fit_and_score)(\n\u001b[1;32m    840\u001b[0m         clone(base_estimator),\n\u001b[1;32m    841\u001b[0m         X,\n\u001b[1;32m    842\u001b[0m         y,\n\u001b[1;32m    843\u001b[0m         train\u001b[39m=\u001b[39;49mtrain,\n\u001b[1;32m    844\u001b[0m         test\u001b[39m=\u001b[39;49mtest,\n\u001b[1;32m    845\u001b[0m         parameters\u001b[39m=\u001b[39;49mparameters,\n\u001b[1;32m    846\u001b[0m         split_progress\u001b[39m=\u001b[39;49m(split_idx, n_splits),\n\u001b[1;32m    847\u001b[0m         candidate_progress\u001b[39m=\u001b[39;49m(cand_idx, n_candidates),\n\u001b[1;32m    848\u001b[0m         \u001b[39m*\u001b[39;49m\u001b[39m*\u001b[39;49mfit_and_score_kwargs,\n\u001b[1;32m    849\u001b[0m     )\n\u001b[1;32m    850\u001b[0m     \u001b[39mfor\u001b[39;49;00m (cand_idx, parameters), (split_idx, (train, test)) \u001b[39min\u001b[39;49;00m product(\n\u001b[1;32m    851\u001b[0m         \u001b[39menumerate\u001b[39;49m(candidate_params), \u001b[39menumerate\u001b[39;49m(cv\u001b[39m.\u001b[39;49msplit(X, y, groups))\n\u001b[1;32m    852\u001b[0m     )\n\u001b[1;32m    853\u001b[0m )\n\u001b[1;32m    855\u001b[0m \u001b[39mif\u001b[39;00m \u001b[39mlen\u001b[39m(out) \u001b[39m<\u001b[39m \u001b[39m1\u001b[39m:\n\u001b[1;32m    856\u001b[0m     \u001b[39mraise\u001b[39;00m \u001b[39mValueError\u001b[39;00m(\n\u001b[1;32m    857\u001b[0m         \u001b[39m\"\u001b[39m\u001b[39mNo fits were performed. \u001b[39m\u001b[39m\"\u001b[39m\n\u001b[1;32m    858\u001b[0m         \u001b[39m\"\u001b[39m\u001b[39mWas the CV iterator empty? \u001b[39m\u001b[39m\"\u001b[39m\n\u001b[1;32m    859\u001b[0m         \u001b[39m\"\u001b[39m\u001b[39mWere there no candidates?\u001b[39m\u001b[39m\"\u001b[39m\n\u001b[1;32m    860\u001b[0m     )\n",
      "File \u001b[0;32m~/anaconda3/envs/classification/lib/python3.10/site-packages/joblib/parallel.py:1043\u001b[0m, in \u001b[0;36mParallel.__call__\u001b[0;34m(self, iterable)\u001b[0m\n\u001b[1;32m   1034\u001b[0m \u001b[39mtry\u001b[39;00m:\n\u001b[1;32m   1035\u001b[0m     \u001b[39m# Only set self._iterating to True if at least a batch\u001b[39;00m\n\u001b[1;32m   1036\u001b[0m     \u001b[39m# was dispatched. In particular this covers the edge\u001b[39;00m\n\u001b[0;32m   (...)\u001b[0m\n\u001b[1;32m   1040\u001b[0m     \u001b[39m# was very quick and its callback already dispatched all the\u001b[39;00m\n\u001b[1;32m   1041\u001b[0m     \u001b[39m# remaining jobs.\u001b[39;00m\n\u001b[1;32m   1042\u001b[0m     \u001b[39mself\u001b[39m\u001b[39m.\u001b[39m_iterating \u001b[39m=\u001b[39m \u001b[39mFalse\u001b[39;00m\n\u001b[0;32m-> 1043\u001b[0m     \u001b[39mif\u001b[39;00m \u001b[39mself\u001b[39;49m\u001b[39m.\u001b[39;49mdispatch_one_batch(iterator):\n\u001b[1;32m   1044\u001b[0m         \u001b[39mself\u001b[39m\u001b[39m.\u001b[39m_iterating \u001b[39m=\u001b[39m \u001b[39mself\u001b[39m\u001b[39m.\u001b[39m_original_iterator \u001b[39mis\u001b[39;00m \u001b[39mnot\u001b[39;00m \u001b[39mNone\u001b[39;00m\n\u001b[1;32m   1046\u001b[0m     \u001b[39mwhile\u001b[39;00m \u001b[39mself\u001b[39m\u001b[39m.\u001b[39mdispatch_one_batch(iterator):\n",
      "File \u001b[0;32m~/anaconda3/envs/classification/lib/python3.10/site-packages/joblib/parallel.py:861\u001b[0m, in \u001b[0;36mParallel.dispatch_one_batch\u001b[0;34m(self, iterator)\u001b[0m\n\u001b[1;32m    859\u001b[0m     \u001b[39mreturn\u001b[39;00m \u001b[39mFalse\u001b[39;00m\n\u001b[1;32m    860\u001b[0m \u001b[39melse\u001b[39;00m:\n\u001b[0;32m--> 861\u001b[0m     \u001b[39mself\u001b[39;49m\u001b[39m.\u001b[39;49m_dispatch(tasks)\n\u001b[1;32m    862\u001b[0m     \u001b[39mreturn\u001b[39;00m \u001b[39mTrue\u001b[39;00m\n",
      "File \u001b[0;32m~/anaconda3/envs/classification/lib/python3.10/site-packages/joblib/parallel.py:779\u001b[0m, in \u001b[0;36mParallel._dispatch\u001b[0;34m(self, batch)\u001b[0m\n\u001b[1;32m    777\u001b[0m \u001b[39mwith\u001b[39;00m \u001b[39mself\u001b[39m\u001b[39m.\u001b[39m_lock:\n\u001b[1;32m    778\u001b[0m     job_idx \u001b[39m=\u001b[39m \u001b[39mlen\u001b[39m(\u001b[39mself\u001b[39m\u001b[39m.\u001b[39m_jobs)\n\u001b[0;32m--> 779\u001b[0m     job \u001b[39m=\u001b[39m \u001b[39mself\u001b[39;49m\u001b[39m.\u001b[39;49m_backend\u001b[39m.\u001b[39;49mapply_async(batch, callback\u001b[39m=\u001b[39;49mcb)\n\u001b[1;32m    780\u001b[0m     \u001b[39m# A job can complete so quickly than its callback is\u001b[39;00m\n\u001b[1;32m    781\u001b[0m     \u001b[39m# called before we get here, causing self._jobs to\u001b[39;00m\n\u001b[1;32m    782\u001b[0m     \u001b[39m# grow. To ensure correct results ordering, .insert is\u001b[39;00m\n\u001b[1;32m    783\u001b[0m     \u001b[39m# used (rather than .append) in the following line\u001b[39;00m\n\u001b[1;32m    784\u001b[0m     \u001b[39mself\u001b[39m\u001b[39m.\u001b[39m_jobs\u001b[39m.\u001b[39minsert(job_idx, job)\n",
      "File \u001b[0;32m~/anaconda3/envs/classification/lib/python3.10/site-packages/joblib/_parallel_backends.py:208\u001b[0m, in \u001b[0;36mSequentialBackend.apply_async\u001b[0;34m(self, func, callback)\u001b[0m\n\u001b[1;32m    206\u001b[0m \u001b[39mdef\u001b[39;00m \u001b[39mapply_async\u001b[39m(\u001b[39mself\u001b[39m, func, callback\u001b[39m=\u001b[39m\u001b[39mNone\u001b[39;00m):\n\u001b[1;32m    207\u001b[0m     \u001b[39m\"\"\"Schedule a func to be run\"\"\"\u001b[39;00m\n\u001b[0;32m--> 208\u001b[0m     result \u001b[39m=\u001b[39m ImmediateResult(func)\n\u001b[1;32m    209\u001b[0m     \u001b[39mif\u001b[39;00m callback:\n\u001b[1;32m    210\u001b[0m         callback(result)\n",
      "File \u001b[0;32m~/anaconda3/envs/classification/lib/python3.10/site-packages/joblib/_parallel_backends.py:572\u001b[0m, in \u001b[0;36mImmediateResult.__init__\u001b[0;34m(self, batch)\u001b[0m\n\u001b[1;32m    569\u001b[0m \u001b[39mdef\u001b[39;00m \u001b[39m__init__\u001b[39m(\u001b[39mself\u001b[39m, batch):\n\u001b[1;32m    570\u001b[0m     \u001b[39m# Don't delay the application, to avoid keeping the input\u001b[39;00m\n\u001b[1;32m    571\u001b[0m     \u001b[39m# arguments in memory\u001b[39;00m\n\u001b[0;32m--> 572\u001b[0m     \u001b[39mself\u001b[39m\u001b[39m.\u001b[39mresults \u001b[39m=\u001b[39m batch()\n",
      "File \u001b[0;32m~/anaconda3/envs/classification/lib/python3.10/site-packages/joblib/parallel.py:262\u001b[0m, in \u001b[0;36mBatchedCalls.__call__\u001b[0;34m(self)\u001b[0m\n\u001b[1;32m    258\u001b[0m \u001b[39mdef\u001b[39;00m \u001b[39m__call__\u001b[39m(\u001b[39mself\u001b[39m):\n\u001b[1;32m    259\u001b[0m     \u001b[39m# Set the default nested backend to self._backend but do not set the\u001b[39;00m\n\u001b[1;32m    260\u001b[0m     \u001b[39m# change the default number of processes to -1\u001b[39;00m\n\u001b[1;32m    261\u001b[0m     \u001b[39mwith\u001b[39;00m parallel_backend(\u001b[39mself\u001b[39m\u001b[39m.\u001b[39m_backend, n_jobs\u001b[39m=\u001b[39m\u001b[39mself\u001b[39m\u001b[39m.\u001b[39m_n_jobs):\n\u001b[0;32m--> 262\u001b[0m         \u001b[39mreturn\u001b[39;00m [func(\u001b[39m*\u001b[39margs, \u001b[39m*\u001b[39m\u001b[39m*\u001b[39mkwargs)\n\u001b[1;32m    263\u001b[0m                 \u001b[39mfor\u001b[39;00m func, args, kwargs \u001b[39min\u001b[39;00m \u001b[39mself\u001b[39m\u001b[39m.\u001b[39mitems]\n",
      "File \u001b[0;32m~/anaconda3/envs/classification/lib/python3.10/site-packages/joblib/parallel.py:262\u001b[0m, in \u001b[0;36m<listcomp>\u001b[0;34m(.0)\u001b[0m\n\u001b[1;32m    258\u001b[0m \u001b[39mdef\u001b[39;00m \u001b[39m__call__\u001b[39m(\u001b[39mself\u001b[39m):\n\u001b[1;32m    259\u001b[0m     \u001b[39m# Set the default nested backend to self._backend but do not set the\u001b[39;00m\n\u001b[1;32m    260\u001b[0m     \u001b[39m# change the default number of processes to -1\u001b[39;00m\n\u001b[1;32m    261\u001b[0m     \u001b[39mwith\u001b[39;00m parallel_backend(\u001b[39mself\u001b[39m\u001b[39m.\u001b[39m_backend, n_jobs\u001b[39m=\u001b[39m\u001b[39mself\u001b[39m\u001b[39m.\u001b[39m_n_jobs):\n\u001b[0;32m--> 262\u001b[0m         \u001b[39mreturn\u001b[39;00m [func(\u001b[39m*\u001b[39;49margs, \u001b[39m*\u001b[39;49m\u001b[39m*\u001b[39;49mkwargs)\n\u001b[1;32m    263\u001b[0m                 \u001b[39mfor\u001b[39;00m func, args, kwargs \u001b[39min\u001b[39;00m \u001b[39mself\u001b[39m\u001b[39m.\u001b[39mitems]\n",
      "File \u001b[0;32m~/anaconda3/envs/classification/lib/python3.10/site-packages/sklearn/utils/fixes.py:211\u001b[0m, in \u001b[0;36m_FuncWrapper.__call__\u001b[0;34m(self, *args, **kwargs)\u001b[0m\n\u001b[1;32m    209\u001b[0m \u001b[39mdef\u001b[39;00m \u001b[39m__call__\u001b[39m(\u001b[39mself\u001b[39m, \u001b[39m*\u001b[39margs, \u001b[39m*\u001b[39m\u001b[39m*\u001b[39mkwargs):\n\u001b[1;32m    210\u001b[0m     \u001b[39mwith\u001b[39;00m config_context(\u001b[39m*\u001b[39m\u001b[39m*\u001b[39m\u001b[39mself\u001b[39m\u001b[39m.\u001b[39mconfig):\n\u001b[0;32m--> 211\u001b[0m         \u001b[39mreturn\u001b[39;00m \u001b[39mself\u001b[39;49m\u001b[39m.\u001b[39;49mfunction(\u001b[39m*\u001b[39;49margs, \u001b[39m*\u001b[39;49m\u001b[39m*\u001b[39;49mkwargs)\n",
      "File \u001b[0;32m~/anaconda3/envs/classification/lib/python3.10/site-packages/sklearn/model_selection/_validation.py:681\u001b[0m, in \u001b[0;36m_fit_and_score\u001b[0;34m(estimator, X, y, scorer, train, test, verbose, parameters, fit_params, return_train_score, return_parameters, return_n_test_samples, return_times, return_estimator, split_progress, candidate_progress, error_score)\u001b[0m\n\u001b[1;32m    679\u001b[0m         estimator\u001b[39m.\u001b[39mfit(X_train, \u001b[39m*\u001b[39m\u001b[39m*\u001b[39mfit_params)\n\u001b[1;32m    680\u001b[0m     \u001b[39melse\u001b[39;00m:\n\u001b[0;32m--> 681\u001b[0m         estimator\u001b[39m.\u001b[39mfit(X_train, y_train, \u001b[39m*\u001b[39m\u001b[39m*\u001b[39mfit_params)\n\u001b[1;32m    683\u001b[0m \u001b[39mexcept\u001b[39;00m \u001b[39mException\u001b[39;00m:\n\u001b[1;32m    684\u001b[0m     \u001b[39m# Note fit time as time until error\u001b[39;00m\n\u001b[1;32m    685\u001b[0m     fit_time \u001b[39m=\u001b[39m time\u001b[39m.\u001b[39mtime() \u001b[39m-\u001b[39m start_time\n",
      "File \u001b[0;32m~/anaconda3/envs/classification/lib/python3.10/site-packages/sklearn/tree/_classes.py:937\u001b[0m, in \u001b[0;36mDecisionTreeClassifier.fit\u001b[0;34m(self, X, y, sample_weight, check_input, X_idx_sorted)\u001b[0m\n\u001b[1;32m    899\u001b[0m \u001b[39mdef\u001b[39;00m \u001b[39mfit\u001b[39m(\n\u001b[1;32m    900\u001b[0m     \u001b[39mself\u001b[39m, X, y, sample_weight\u001b[39m=\u001b[39m\u001b[39mNone\u001b[39;00m, check_input\u001b[39m=\u001b[39m\u001b[39mTrue\u001b[39;00m, X_idx_sorted\u001b[39m=\u001b[39m\u001b[39m\"\u001b[39m\u001b[39mdeprecated\u001b[39m\u001b[39m\"\u001b[39m\n\u001b[1;32m    901\u001b[0m ):\n\u001b[1;32m    902\u001b[0m     \u001b[39m\"\"\"Build a decision tree classifier from the training set (X, y).\u001b[39;00m\n\u001b[1;32m    903\u001b[0m \n\u001b[1;32m    904\u001b[0m \u001b[39m    Parameters\u001b[39;00m\n\u001b[0;32m   (...)\u001b[0m\n\u001b[1;32m    934\u001b[0m \u001b[39m        Fitted estimator.\u001b[39;00m\n\u001b[1;32m    935\u001b[0m \u001b[39m    \"\"\"\u001b[39;00m\n\u001b[0;32m--> 937\u001b[0m     \u001b[39msuper\u001b[39;49m()\u001b[39m.\u001b[39;49mfit(\n\u001b[1;32m    938\u001b[0m         X,\n\u001b[1;32m    939\u001b[0m         y,\n\u001b[1;32m    940\u001b[0m         sample_weight\u001b[39m=\u001b[39;49msample_weight,\n\u001b[1;32m    941\u001b[0m         check_input\u001b[39m=\u001b[39;49mcheck_input,\n\u001b[1;32m    942\u001b[0m         X_idx_sorted\u001b[39m=\u001b[39;49mX_idx_sorted,\n\u001b[1;32m    943\u001b[0m     )\n\u001b[1;32m    944\u001b[0m     \u001b[39mreturn\u001b[39;00m \u001b[39mself\u001b[39m\n",
      "File \u001b[0;32m~/anaconda3/envs/classification/lib/python3.10/site-packages/sklearn/tree/_classes.py:420\u001b[0m, in \u001b[0;36mBaseDecisionTree.fit\u001b[0;34m(self, X, y, sample_weight, check_input, X_idx_sorted)\u001b[0m\n\u001b[1;32m    409\u001b[0m \u001b[39melse\u001b[39;00m:\n\u001b[1;32m    410\u001b[0m     builder \u001b[39m=\u001b[39m BestFirstTreeBuilder(\n\u001b[1;32m    411\u001b[0m         splitter,\n\u001b[1;32m    412\u001b[0m         min_samples_split,\n\u001b[0;32m   (...)\u001b[0m\n\u001b[1;32m    417\u001b[0m         \u001b[39mself\u001b[39m\u001b[39m.\u001b[39mmin_impurity_decrease,\n\u001b[1;32m    418\u001b[0m     )\n\u001b[0;32m--> 420\u001b[0m builder\u001b[39m.\u001b[39;49mbuild(\u001b[39mself\u001b[39;49m\u001b[39m.\u001b[39;49mtree_, X, y, sample_weight)\n\u001b[1;32m    422\u001b[0m \u001b[39mif\u001b[39;00m \u001b[39mself\u001b[39m\u001b[39m.\u001b[39mn_outputs_ \u001b[39m==\u001b[39m \u001b[39m1\u001b[39m \u001b[39mand\u001b[39;00m is_classifier(\u001b[39mself\u001b[39m):\n\u001b[1;32m    423\u001b[0m     \u001b[39mself\u001b[39m\u001b[39m.\u001b[39mn_classes_ \u001b[39m=\u001b[39m \u001b[39mself\u001b[39m\u001b[39m.\u001b[39mn_classes_[\u001b[39m0\u001b[39m]\n",
      "\u001b[0;31mKeyboardInterrupt\u001b[0m: "
     ]
    }
   ],
   "source": [
    "grid={\"criterion\":[\"gini\",'entropy'],'min_samples_split':[2,6,14,32,64], 'random_state':[42, None] }\n",
    "dt=DecisionTreeClassifier()\n",
    "dt_cv=GridSearchCV(dt,grid,cv=3,scoring='f1_macro')\n",
    "dt_cv.fit(X_train, y_train)"
   ]
  },
  {
   "cell_type": "code",
   "execution_count": 75,
   "metadata": {},
   "outputs": [
    {
     "data": {
      "text/html": [
       "<div>\n",
       "<style scoped>\n",
       "    .dataframe tbody tr th:only-of-type {\n",
       "        vertical-align: middle;\n",
       "    }\n",
       "\n",
       "    .dataframe tbody tr th {\n",
       "        vertical-align: top;\n",
       "    }\n",
       "\n",
       "    .dataframe thead th {\n",
       "        text-align: right;\n",
       "    }\n",
       "</style>\n",
       "<table border=\"1\" class=\"dataframe\">\n",
       "  <thead>\n",
       "    <tr style=\"text-align: right;\">\n",
       "      <th></th>\n",
       "      <th>mean_fit_time</th>\n",
       "      <th>std_fit_time</th>\n",
       "      <th>mean_score_time</th>\n",
       "      <th>std_score_time</th>\n",
       "      <th>param_criterion</th>\n",
       "      <th>param_min_samples_split</th>\n",
       "      <th>param_random_state</th>\n",
       "      <th>params</th>\n",
       "      <th>split0_test_score</th>\n",
       "      <th>split1_test_score</th>\n",
       "      <th>split2_test_score</th>\n",
       "      <th>mean_test_score</th>\n",
       "      <th>std_test_score</th>\n",
       "      <th>rank_test_score</th>\n",
       "    </tr>\n",
       "  </thead>\n",
       "  <tbody>\n",
       "    <tr>\n",
       "      <th>0</th>\n",
       "      <td>2.550681</td>\n",
       "      <td>0.081907</td>\n",
       "      <td>0.029533</td>\n",
       "      <td>0.002559</td>\n",
       "      <td>gini</td>\n",
       "      <td>2</td>\n",
       "      <td>42</td>\n",
       "      <td>{'criterion': 'gini', 'min_samples_split': 2, ...</td>\n",
       "      <td>0.214716</td>\n",
       "      <td>0.216214</td>\n",
       "      <td>0.217456</td>\n",
       "      <td>0.216128</td>\n",
       "      <td>0.001120</td>\n",
       "      <td>1</td>\n",
       "    </tr>\n",
       "    <tr>\n",
       "      <th>1</th>\n",
       "      <td>2.721425</td>\n",
       "      <td>0.208265</td>\n",
       "      <td>0.032089</td>\n",
       "      <td>0.003546</td>\n",
       "      <td>gini</td>\n",
       "      <td>2</td>\n",
       "      <td>None</td>\n",
       "      <td>{'criterion': 'gini', 'min_samples_split': 2, ...</td>\n",
       "      <td>0.217047</td>\n",
       "      <td>0.213960</td>\n",
       "      <td>0.217119</td>\n",
       "      <td>0.216042</td>\n",
       "      <td>0.001472</td>\n",
       "      <td>2</td>\n",
       "    </tr>\n",
       "    <tr>\n",
       "      <th>12</th>\n",
       "      <td>3.708585</td>\n",
       "      <td>0.046757</td>\n",
       "      <td>0.031218</td>\n",
       "      <td>0.002523</td>\n",
       "      <td>entropy</td>\n",
       "      <td>6</td>\n",
       "      <td>42</td>\n",
       "      <td>{'criterion': 'entropy', 'min_samples_split': ...</td>\n",
       "      <td>0.217093</td>\n",
       "      <td>0.212089</td>\n",
       "      <td>0.218641</td>\n",
       "      <td>0.215941</td>\n",
       "      <td>0.002796</td>\n",
       "      <td>3</td>\n",
       "    </tr>\n",
       "    <tr>\n",
       "      <th>15</th>\n",
       "      <td>3.489973</td>\n",
       "      <td>0.109457</td>\n",
       "      <td>0.030265</td>\n",
       "      <td>0.000409</td>\n",
       "      <td>entropy</td>\n",
       "      <td>14</td>\n",
       "      <td>None</td>\n",
       "      <td>{'criterion': 'entropy', 'min_samples_split': ...</td>\n",
       "      <td>0.214798</td>\n",
       "      <td>0.213864</td>\n",
       "      <td>0.218960</td>\n",
       "      <td>0.215874</td>\n",
       "      <td>0.002215</td>\n",
       "      <td>4</td>\n",
       "    </tr>\n",
       "    <tr>\n",
       "      <th>14</th>\n",
       "      <td>3.453665</td>\n",
       "      <td>0.101807</td>\n",
       "      <td>0.029545</td>\n",
       "      <td>0.002062</td>\n",
       "      <td>entropy</td>\n",
       "      <td>14</td>\n",
       "      <td>42</td>\n",
       "      <td>{'criterion': 'entropy', 'min_samples_split': ...</td>\n",
       "      <td>0.215472</td>\n",
       "      <td>0.213849</td>\n",
       "      <td>0.218251</td>\n",
       "      <td>0.215857</td>\n",
       "      <td>0.001817</td>\n",
       "      <td>5</td>\n",
       "    </tr>\n",
       "  </tbody>\n",
       "</table>\n",
       "</div>"
      ],
      "text/plain": [
       "    mean_fit_time  std_fit_time  mean_score_time  std_score_time  \\\n",
       "0        2.550681      0.081907         0.029533        0.002559   \n",
       "1        2.721425      0.208265         0.032089        0.003546   \n",
       "12       3.708585      0.046757         0.031218        0.002523   \n",
       "15       3.489973      0.109457         0.030265        0.000409   \n",
       "14       3.453665      0.101807         0.029545        0.002062   \n",
       "\n",
       "   param_criterion param_min_samples_split param_random_state  \\\n",
       "0             gini                       2                 42   \n",
       "1             gini                       2               None   \n",
       "12         entropy                       6                 42   \n",
       "15         entropy                      14               None   \n",
       "14         entropy                      14                 42   \n",
       "\n",
       "                                               params  split0_test_score  \\\n",
       "0   {'criterion': 'gini', 'min_samples_split': 2, ...           0.214716   \n",
       "1   {'criterion': 'gini', 'min_samples_split': 2, ...           0.217047   \n",
       "12  {'criterion': 'entropy', 'min_samples_split': ...           0.217093   \n",
       "15  {'criterion': 'entropy', 'min_samples_split': ...           0.214798   \n",
       "14  {'criterion': 'entropy', 'min_samples_split': ...           0.215472   \n",
       "\n",
       "    split1_test_score  split2_test_score  mean_test_score  std_test_score  \\\n",
       "0            0.216214           0.217456         0.216128        0.001120   \n",
       "1            0.213960           0.217119         0.216042        0.001472   \n",
       "12           0.212089           0.218641         0.215941        0.002796   \n",
       "15           0.213864           0.218960         0.215874        0.002215   \n",
       "14           0.213849           0.218251         0.215857        0.001817   \n",
       "\n",
       "    rank_test_score  \n",
       "0                 1  \n",
       "1                 2  \n",
       "12                3  \n",
       "15                4  \n",
       "14                5  "
      ]
     },
     "execution_count": 75,
     "metadata": {},
     "output_type": "execute_result"
    }
   ],
   "source": [
    "res = pd.DataFrame(dt_cv.cv_results_)\n",
    "res.sort_values(by='rank_test_score', ascending=True).head()"
   ]
  },
  {
   "cell_type": "code",
   "execution_count": 14,
   "metadata": {},
   "outputs": [
    {
     "name": "stdout",
     "output_type": "stream",
     "text": [
      "Accuracy:\t0.67754\n",
      "Precision:\t0.5083623778848926\n",
      "Recall:\t0.508775\n",
      "F1:\t0.5084232620732193\n"
     ]
    },
    {
     "data": {
      "text/plain": [
       "array([[31602,  8398],\n",
       "       [ 7725,  2275]])"
      ]
     },
     "execution_count": 14,
     "metadata": {},
     "output_type": "execute_result"
    }
   ],
   "source": [
    "dt = DecisionTreeClassifier(criterion='entropy', min_samples_split=8, random_state=42)\n",
    "dt.fit(X_train, y_train)\n",
    "y_pred = dt.predict(x_test,)\n",
    "print(f'Accuracy:\\t{accuracy_score(y_test, y_pred)}')\n",
    "print(f'Precision:\\t{precision_score(y_test, y_pred, average=\"macro\")}')\n",
    "print(f'Recall:\\t{recall_score(y_test, y_pred, average=\"macro\")}')\n",
    "print(f'F1:\\t{f1_score(y_test, y_pred, average=\"macro\")}')\n",
    "confusion_matrix(y_test, y_pred)"
   ]
  },
  {
   "cell_type": "markdown",
   "metadata": {},
   "source": [
    "## Random Forest\n",
    "\n",
    "~~~\n",
    "Accuracy:\t0.20516\n",
    "Precision:\t0.2051212463423299\n",
    "Recall:\t0.20515999999999995\n",
    "F1:\t0.20510088356551712\n",
    "array([[2072, 2056, 2049, 1907, 1916],\n",
    "       [2066, 2011, 2039, 1894, 1990],\n",
    "       [2003, 1998, 2069, 1880, 2050],\n",
    "       [1978, 2028, 2048, 1920, 2026],\n",
    "       [2046, 1988, 1930, 1850, 2186]])\n",
    "~~~\n"
   ]
  },
  {
   "cell_type": "code",
   "execution_count": null,
   "metadata": {},
   "outputs": [
    {
     "name": "stdout",
     "output_type": "stream",
     "text": [
      "Accuracy:\t0.80216\n",
      "Precision:\t0.9008658702798044\n",
      "Recall:\t0.5054\n",
      "F1:\t0.45566302479917375\n"
     ]
    },
    {
     "data": {
      "text/plain": [
       "array([[40000,     0],\n",
       "       [ 9892,   108]])"
      ]
     },
     "execution_count": 8,
     "metadata": {},
     "output_type": "execute_result"
    }
   ],
   "source": [
    "rf = RandomForestClassifier()\n",
    "rf.fit(X_train, y_train)\n",
    "y_pred = rf.predict(x_test,)\n",
    "print(f'Accuracy:\\t{accuracy_score(y_test, y_pred)}')\n",
    "print(f'Precision:\\t{precision_score(y_test, y_pred, average=\"macro\")}')\n",
    "print(f'Recall:\\t{recall_score(y_test, y_pred, average=\"macro\")}')\n",
    "print(f'F1:\\t{f1_score(y_test, y_pred, average=\"macro\")}')\n",
    "confusion_matrix(y_test, y_pred)"
   ]
  },
  {
   "cell_type": "code",
   "execution_count": 12,
   "metadata": {},
   "outputs": [
    {
     "name": "stdout",
     "output_type": "stream",
     "text": [
      "Accuracy:\t0.80238\n",
      "Precision:\t0.9009542711653735\n",
      "Recall:\t0.50595\n",
      "F1:\t0.45679293214521083\n"
     ]
    },
    {
     "data": {
      "text/plain": [
       "array([[40000,     0],\n",
       "       [ 9881,   119]])"
      ]
     },
     "execution_count": 12,
     "metadata": {},
     "output_type": "execute_result"
    }
   ],
   "source": [
    "rf = RandomForestClassifier(criterion='entropy', min_samples_split=8, random_state=42, max_features=40, n_jobs=-1)\n",
    "rf.fit(X_train, y_train)\n",
    "y_pred = rf.predict(x_test,)\n",
    "print(f'Accuracy:\\t{accuracy_score(y_test, y_pred)}')\n",
    "print(f'Precision:\\t{precision_score(y_test, y_pred, average=\"macro\")}')\n",
    "print(f'Recall:\\t{recall_score(y_test, y_pred, average=\"macro\")}')\n",
    "print(f'F1:\\t{f1_score(y_test, y_pred, average=\"macro\")}')\n",
    "confusion_matrix(y_test, y_pred)"
   ]
  },
  {
   "cell_type": "code",
   "execution_count": 15,
   "metadata": {},
   "outputs": [
    {
     "name": "stdout",
     "output_type": "stream",
     "text": [
      "Accuracy:\t0.80236\n",
      "Precision:\t0.9009462331101399\n",
      "Recall:\t0.5059\n",
      "F1:\t0.45669030937265537\n"
     ]
    },
    {
     "data": {
      "text/plain": [
       "array([[40000,     0],\n",
       "       [ 9882,   118]])"
      ]
     },
     "execution_count": 15,
     "metadata": {},
     "output_type": "execute_result"
    }
   ],
   "source": [
    "rf = RandomForestClassifier(min_samples_split=16, max_features=80, n_jobs=-1)\n",
    "rf.fit(X_train, y_train)\n",
    "y_pred = rf.predict(x_test,)\n",
    "print(f'Accuracy:\\t{accuracy_score(y_test, y_pred)}')\n",
    "print(f'Precision:\\t{precision_score(y_test, y_pred, average=\"macro\")}')\n",
    "print(f'Recall:\\t{recall_score(y_test, y_pred, average=\"macro\")}')\n",
    "print(f'F1:\\t{f1_score(y_test, y_pred, average=\"macro\")}')\n",
    "confusion_matrix(y_test, y_pred)"
   ]
  },
  {
   "cell_type": "markdown",
   "metadata": {},
   "source": [
    "## XGBoost\n",
    "\n",
    "~~~\n",
    "Accuracy:\t0.2025\n",
    "Precision:\t0.2025738072573832\n",
    "Recall:\t0.20249999999999999\n",
    "F1:\t0.20229736964345638\n",
    "array([[2208, 2007, 1772, 2025, 1988],\n",
    "       [2150, 2057, 1745, 2094, 1954],\n",
    "       [2183, 1989, 1815, 2045, 1968],\n",
    "       [2207, 2052, 1764, 2063, 1914],\n",
    "       [2219, 1989, 1775, 2035, 1982]])\n",
    "~~~\n"
   ]
  },
  {
   "cell_type": "code",
   "execution_count": 13,
   "metadata": {},
   "outputs": [
    {
     "name": "stderr",
     "output_type": "stream",
     "text": [
      "/home/patrick/anaconda3/envs/classification/lib/python3.10/site-packages/xgboost/data.py:262: FutureWarning: pandas.Int64Index is deprecated and will be removed from pandas in a future version. Use pandas.Index with the appropriate dtype instead.\n",
      "  elif isinstance(data.columns, (pd.Int64Index, pd.RangeIndex)):\n"
     ]
    },
    {
     "name": "stdout",
     "output_type": "stream",
     "text": [
      "Accuracy:\t0.8044\n",
      "Precision:\t0.9017677782241864\n",
      "Recall:\t0.511\n",
      "F1:\t0.4670599451845542\n"
     ]
    },
    {
     "data": {
      "text/plain": [
       "array([[40000,     0],\n",
       "       [ 9780,   220]])"
      ]
     },
     "execution_count": 13,
     "metadata": {},
     "output_type": "execute_result"
    }
   ],
   "source": [
    "gbm = xgb.XGBClassifier( \n",
    "                        n_estimators=300,\n",
    "                        max_depth=10,\n",
    "                        objective='binary:logistic', #new objective\n",
    "                        learning_rate=.05, \n",
    "                        subsample=.8,\n",
    "                        min_child_weight=3,\n",
    "                        colsample_bytree=.5,\n",
    "                        use_label_encoder=False\n",
    "                       )\n",
    "\n",
    "eval_set=[(X_train,y_train),(X_val,y_val)]\n",
    "fit_model = gbm.fit( \n",
    "                    X_train, y_train, \n",
    "                    eval_set=eval_set,\n",
    "                    eval_metric='error',\n",
    "                    early_stopping_rounds=50,\n",
    "                    verbose=False\n",
    "                   )\n",
    "\n",
    "y_pred = gbm.predict(x_test)\n",
    "print(f'Accuracy:\\t{accuracy_score(y_test, y_pred)}')\n",
    "print(f'Precision:\\t{precision_score(y_test, y_pred, average=\"macro\")}')\n",
    "print(f'Recall:\\t{recall_score(y_test, y_pred, average=\"macro\")}')\n",
    "print(f'F1:\\t{f1_score(y_test, y_pred, average=\"macro\")}')\n",
    "confusion_matrix(y_test, y_pred)"
   ]
  },
  {
   "cell_type": "code",
   "execution_count": 121,
   "metadata": {},
   "outputs": [],
   "source": [
    "# gbm = xgb.XGBClassifier(use_label_encoder=False)\n",
    "# # grid={'max_depth': [2, 6, 12],'n_estimators': [50, 100, 200], 'learning_rate':[0.3,.05],\n",
    "# #         'objective':['multi:softmax', 'multi:softprob'],'colsample_bytree':[0.2,0.5,0.8]}\n",
    "# grid={'max_depth': [2, 12],'n_estimators': [50, 200],\n",
    "#         'objective':['multi:softmax'],'colsample_bytree':[0.8]}\n",
    "# gbm_cv=GridSearchCV(gbm,grid,cv=3,scoring='f1_macro', n_jobs=-1)\n",
    "# gbm_cv.fit(X_train, y_train)"
   ]
  },
  {
   "cell_type": "code",
   "execution_count": null,
   "metadata": {},
   "outputs": [],
   "source": [
    "# res = pd.DataFrame(gbm_cv.cv_results_)\n",
    "# res.sort_values(by='rank_test_score', ascending=True).head(10)"
   ]
  },
  {
   "cell_type": "code",
   "execution_count": 122,
   "metadata": {},
   "outputs": [
    {
     "name": "stderr",
     "output_type": "stream",
     "text": [
      "/home/patrick/anaconda3/envs/classification/lib/python3.10/site-packages/xgboost/data.py:262: FutureWarning: pandas.Int64Index is deprecated and will be removed from pandas in a future version. Use pandas.Index with the appropriate dtype instead.\n",
      "  elif isinstance(data.columns, (pd.Int64Index, pd.RangeIndex)):\n"
     ]
    },
    {
     "name": "stdout",
     "output_type": "stream",
     "text": [
      "Accuracy:\t0.20294\n",
      "Precision:\t0.20297739832653744\n",
      "Recall:\t0.20293999999999998\n",
      "F1:\t0.20288853644668597\n"
     ]
    },
    {
     "data": {
      "text/plain": [
       "array([[2018, 2166, 1941, 1913, 1962],\n",
       "       [2039, 2060, 1925, 1933, 2043],\n",
       "       [2146, 2073, 1923, 1900, 1958],\n",
       "       [2052, 2059, 1884, 1959, 2046],\n",
       "       [2040, 2044, 1828, 1901, 2187]])"
      ]
     },
     "execution_count": 122,
     "metadata": {},
     "output_type": "execute_result"
    }
   ],
   "source": [
    "gbm = xgb.XGBClassifier( \n",
    "                        n_estimators=200,\n",
    "                        max_depth=12,\n",
    "                        objective='multi:softmax', #new objective\n",
    "                        learning_rate=.03, \n",
    "                        min_child_weight=3,\n",
    "                        colsample_bytree=.4,\n",
    "                        use_label_encoder=False\n",
    "                       )\n",
    "\n",
    "eval_set=[(X_train,y_train),(X_val,y_val)]\n",
    "fit_model = gbm.fit( \n",
    "                    X_train, y_train, \n",
    "                    eval_set=eval_set,\n",
    "                    eval_metric='merror',\n",
    "                    early_stopping_rounds=50,\n",
    "                    verbose=False\n",
    "                   )\n",
    "\n",
    "y_pred = gbm.predict(x_test)\n",
    "print(f'Accuracy:\\t{accuracy_score(y_test, y_pred)}')\n",
    "print(f'Precision:\\t{precision_score(y_test, y_pred, average=\"macro\")}')\n",
    "print(f'Recall:\\t{recall_score(y_test, y_pred, average=\"macro\")}')\n",
    "print(f'F1:\\t{f1_score(y_test, y_pred, average=\"macro\")}')\n",
    "confusion_matrix(y_test, y_pred)"
   ]
  },
  {
   "cell_type": "markdown",
   "metadata": {},
   "source": [
    "## Naive Bayes\n",
    "\n",
    "~~~\n",
    "Accuracy:\t0.2025\n",
    "Precision:\t0.2025738072573832\n",
    "Recall:\t0.20249999999999999\n",
    "F1:\t0.20229736964345638\n",
    "array([[2208, 2007, 1772, 2025, 1988],\n",
    "       [2150, 2057, 1745, 2094, 1954],\n",
    "       [2183, 1989, 1815, 2045, 1968],\n",
    "       [2207, 2052, 1764, 2063, 1914],\n",
    "       [2219, 1989, 1775, 2035, 1982]])\n",
    "~~~"
   ]
  },
  {
   "cell_type": "code",
   "execution_count": 11,
   "metadata": {},
   "outputs": [
    {
     "name": "stdout",
     "output_type": "stream",
     "text": [
      "Accuracy:\t0.80496\n",
      "Precision:\t0.8630189049023222\n",
      "Recall:\t0.5132625\n",
      "F1:\t0.4719706766040832\n"
     ]
    },
    {
     "data": {
      "text/plain": [
       "array([[39977,    23],\n",
       "       [ 9729,   271]])"
      ]
     },
     "execution_count": 11,
     "metadata": {},
     "output_type": "execute_result"
    }
   ],
   "source": [
    "gnb = GaussianNB()\n",
    "gnb.fit(X_train, y_train)\n",
    "y_pred = gnb.predict(x_test,)\n",
    "print(f'Accuracy:\\t{accuracy_score(y_test, y_pred)}')\n",
    "print(f'Precision:\\t{precision_score(y_test, y_pred, average=\"macro\")}')\n",
    "print(f'Recall:\\t{recall_score(y_test, y_pred, average=\"macro\")}')\n",
    "print(f'F1:\\t{f1_score(y_test, y_pred, average=\"macro\")}')\n",
    "confusion_matrix(y_test, y_pred)"
   ]
  },
  {
   "cell_type": "code",
   "execution_count": null,
   "metadata": {},
   "outputs": [],
   "source": []
  },
  {
   "cell_type": "markdown",
   "metadata": {},
   "source": [
    "## Ensemble of Models\n",
    "\n",
    "~~~\n",
    "Accuracy:\t0.2025\n",
    "Precision:\t0.2025738072573832\n",
    "Recall:\t0.20249999999999999\n",
    "F1:\t0.20229736964345638\n",
    "array([[2208, 2007, 1772, 2025, 1988],\n",
    "       [2150, 2057, 1745, 2094, 1954],\n",
    "       [2183, 1989, 1815, 2045, 1968],\n",
    "       [2207, 2052, 1764, 2063, 1914],\n",
    "       [2219, 1989, 1775, 2035, 1982]])\n",
    "~~~"
   ]
  },
  {
   "cell_type": "code",
   "execution_count": 16,
   "metadata": {},
   "outputs": [
    {
     "name": "stdout",
     "output_type": "stream",
     "text": [
      "Accuracy:\t0.80428\n",
      "Precision:\t0.8971443935927617\n",
      "Recall:\t0.510775\n",
      "F1:\t0.4666404916100489\n"
     ]
    },
    {
     "data": {
      "text/plain": [
       "array([[39998,     2],\n",
       "       [ 9784,   216]])"
      ]
     },
     "execution_count": 16,
     "metadata": {},
     "output_type": "execute_result"
    }
   ],
   "source": [
    "# create voting classifier\n",
    "model_list = [\n",
    "    ('knn', knn),\n",
    "    ('lr', lr),\n",
    "    ('dt', dt),\n",
    "    ('rf', rf),\n",
    "    ('nb', gnb)\n",
    "]\n",
    "voting_classifer = VotingClassifier(estimators=model_list,\n",
    "                                    voting='hard', #<-- sklearn calls this hard voting\n",
    "                                    n_jobs=-1)\n",
    "voting_classifer.fit(X_train, y_train)\n",
    "y_pred = voting_classifer.predict(x_test)\n",
    "print(f'Accuracy:\\t{accuracy_score(y_test, y_pred)}')\n",
    "print(f'Precision:\\t{precision_score(y_test, y_pred, average=\"macro\")}')\n",
    "print(f'Recall:\\t{recall_score(y_test, y_pred, average=\"macro\")}')\n",
    "print(f'F1:\\t{f1_score(y_test, y_pred, average=\"macro\")}')\n",
    "confusion_matrix(y_test, y_pred)\n"
   ]
  },
  {
   "cell_type": "code",
   "execution_count": 17,
   "metadata": {},
   "outputs": [
    {
     "name": "stdout",
     "output_type": "stream",
     "text": [
      "Accuracy:\t0.80568\n",
      "Precision:\t0.8530646696122672\n",
      "Recall:\t0.5155125\n",
      "F1:\t0.4766184202795973\n"
     ]
    },
    {
     "data": {
      "text/plain": [
       "array([[39965,    35],\n",
       "       [ 9681,   319]])"
      ]
     },
     "execution_count": 17,
     "metadata": {},
     "output_type": "execute_result"
    }
   ],
   "source": [
    "\n",
    "voting_classifer2 = VotingClassifier(estimators=model_list,\n",
    "                                    voting='soft', #<-- sklearn calls this hard voting\n",
    "                                    n_jobs=-1)\n",
    "voting_classifer2.fit(X_train, y_train)\n",
    "y_pred = voting_classifer2.predict(x_test)\n",
    "print(f'Accuracy:\\t{accuracy_score(y_test, y_pred)}')\n",
    "print(f'Precision:\\t{precision_score(y_test, y_pred, average=\"macro\")}')\n",
    "print(f'Recall:\\t{recall_score(y_test, y_pred, average=\"macro\")}')\n",
    "print(f'F1:\\t{f1_score(y_test, y_pred, average=\"macro\")}')\n",
    "confusion_matrix(y_test, y_pred)\n"
   ]
  },
  {
   "cell_type": "code",
   "execution_count": 45,
   "metadata": {},
   "outputs": [
    {
     "name": "stderr",
     "output_type": "stream",
     "text": [
      "/home/patrick/anaconda3/envs/classification/lib/python3.10/site-packages/sklearn/linear_model/_logistic.py:814: ConvergenceWarning: lbfgs failed to converge (status=1):\n",
      "STOP: TOTAL NO. of ITERATIONS REACHED LIMIT.\n",
      "\n",
      "Increase the number of iterations (max_iter) or scale the data as shown in:\n",
      "    https://scikit-learn.org/stable/modules/preprocessing.html\n",
      "Please also refer to the documentation for alternative solver options:\n",
      "    https://scikit-learn.org/stable/modules/linear_model.html#logistic-regression\n",
      "  n_iter_i = _check_optimize_result(\n"
     ]
    },
    {
     "name": "stdout",
     "output_type": "stream",
     "text": [
      "Accuracy:\t0.20942\n",
      "Precision:\t0.21746255034331302\n",
      "Recall:\t0.20942\n",
      "F1:\t0.19530824327728674\n"
     ]
    },
    {
     "data": {
      "text/plain": [
       "array([[1030, 2684, 3488, 2215,  583],\n",
       "       [ 950, 2696, 3513, 2222,  619],\n",
       "       [ 868, 2793, 3491, 2244,  604],\n",
       "       [ 853, 2554, 3457, 2460,  676],\n",
       "       [ 826, 2532, 3486, 2362,  794]])"
      ]
     },
     "execution_count": 45,
     "metadata": {},
     "output_type": "execute_result"
    }
   ],
   "source": [
    "model_list = [knn,lr,dt,rf]\n",
    "stacked = StackingClassifier(\n",
    "    classifiers=model_list, meta_classifier=LogisticRegression(n_jobs=-1), use_probas=False)\n",
    "stacked.fit(X_train, y_train)\n",
    "y_pred = stacked.predict(x_test)\n",
    "print(f'Accuracy:\\t{accuracy_score(y_test, y_pred)}')\n",
    "print(f'Precision:\\t{precision_score(y_test, y_pred, average=\"macro\")}')\n",
    "print(f'Recall:\\t{recall_score(y_test, y_pred, average=\"macro\")}')\n",
    "print(f'F1:\\t{f1_score(y_test, y_pred, average=\"macro\")}')\n",
    "confusion_matrix(y_test, y_pred)"
   ]
  },
  {
   "cell_type": "markdown",
   "metadata": {},
   "source": [
    "### More Evaluation\n"
   ]
  },
  {
   "cell_type": "code",
   "execution_count": 18,
   "metadata": {},
   "outputs": [],
   "source": [
    "y_pred = voting_classifer2.predict_proba(x_test)"
   ]
  },
  {
   "cell_type": "code",
   "execution_count": 26,
   "metadata": {},
   "outputs": [
    {
     "data": {
      "text/plain": [
       "Text(0.5, 1.0, 'Precision and Recall Curves')"
      ]
     },
     "execution_count": 26,
     "metadata": {},
     "output_type": "execute_result"
    },
    {
     "data": {
      "image/png": "[encoded data removed]",
      "text/plain": [
       "<Figure size 480x320 with 1 Axes>"
      ]
     },
     "metadata": {
      "needs_background": "light"
     },
     "output_type": "display_data"
    }
   ],
   "source": [
    "precision_curve, recall_curve, threshold_curve = precision_recall_curve(y_test, y_pred[:,1] )\n",
    "\n",
    "plt.figure(dpi=80)\n",
    "plt.plot(threshold_curve, precision_curve[1:],label='precision')\n",
    "plt.plot(threshold_curve, recall_curve[1:], label='recall')\n",
    "plt.legend(loc='lower left')\n",
    "plt.xlabel('Threshold (above this probability, label as fraud)')\n",
    "plt.title('Precision and Recall Curves')"
   ]
  },
  {
   "cell_type": "code",
   "execution_count": 32,
   "metadata": {},
   "outputs": [
    {
     "name": "stdout",
     "output_type": "stream",
     "text": [
      "Accuracy:\t0.69186\n",
      "Precision:\t0.5224424924588862\n",
      "Recall:\t0.522825\n",
      "F1:\t0.5226151458480693\n"
     ]
    },
    {
     "data": {
      "text/plain": [
       "array([[32182,  7818],\n",
       "       [ 7589,  2411]])"
      ]
     },
     "execution_count": 32,
     "metadata": {},
     "output_type": "execute_result"
    }
   ],
   "source": [
    "y_pred2 = y_pred[:,1]>0.3\n",
    "\n",
    "print(f'Accuracy:\\t{accuracy_score(y_test, y_pred2)}')\n",
    "print(f'Precision:\\t{precision_score(y_test, y_pred2, average=\"macro\")}')\n",
    "print(f'Recall:\\t{recall_score(y_test, y_pred2, average=\"macro\")}')\n",
    "print(f'F1:\\t{f1_score(y_test, y_pred2, average=\"macro\")}')\n",
    "confusion_matrix(y_test, y_pred2)"
   ]
  }
 ],
 "metadata": {
  "kernelspec": {
   "display_name": "Python 3.10.5 ('classification')",
   "language": "python",
   "name": "python3"
  },
  "language_info": {
   "codemirror_mode": {
    "name": "ipython",
    "version": 3
   },
   "file_extension": ".py",
   "mimetype": "text/x-python",
   "name": "python",
   "nbconvert_exporter": "python",
   "pygments_lexer": "ipython3",
   "version": "3.10.5"
  },
  "orig_nbformat": 4,
  "vscode": {
   "interpreter": {
    "hash": "5f0e1bddb7ed37f67f576e4a6a21b2408ebab9a006050dc6d038d31036c144c3"
   }
  }
 },
 "nbformat": 4,
 "nbformat_minor": 2
}
