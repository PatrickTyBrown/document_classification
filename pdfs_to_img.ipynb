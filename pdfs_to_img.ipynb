{
 "cells": [
  {
   "cell_type": "code",
   "execution_count": 1,
   "metadata": {},
   "outputs": [],
   "source": [
    "# import module\n",
    "from pdf2image import convert_from_path\n",
    "import os\n"
   ]
  },
  {
   "cell_type": "markdown",
   "metadata": {},
   "source": [
    "### Test it out quick"
   ]
  },
  {
   "cell_type": "code",
   "execution_count": 2,
   "metadata": {},
   "outputs": [],
   "source": [
    "# Store Pdf with convert_from_path function\n",
    "images = convert_from_path('templates_pdf/IncomeDrivenRepayment.pdf')\n",
    " \n",
    "for i in range(len(images)):\n",
    "  \n",
    "      # Save pages as images in the pdf\n",
    "    images[i].save('templates_img/IncomeDrivenRepayment'+ str(i) +'.jpg', 'JPEG')"
   ]
  },
  {
   "cell_type": "markdown",
   "metadata": {},
   "source": [
    "### Let's fix these files"
   ]
  },
  {
   "cell_type": "code",
   "execution_count": 3,
   "metadata": {},
   "outputs": [
    {
     "name": "stdout",
     "output_type": "stream",
     "text": [
      "FalseCertificationDisqualifyingStatusDischarge Saved. 4 Pages\n",
      "UnemploymentDefermentSpan  Saved. 5 Pages\n",
      "PublicServiceLoanForgivenessPSLFTemporaryExpandedPSLFTEPSLFCertificationApplication Saved. 6 Pages\n",
      "TeacherForbearance Saved. 7 Pages\n",
      "ParentPLUSBorrowerDeferment Saved. 4 Pages\n",
      "MedicalorDentalInternshipResidencyNationalGuardandDoDStudentLoanRepayment Saved. 5 Pages\n",
      "IncomeDrivenRepayment Saved. 10 Pages\n",
      "StudentLoanDebtBurdenForbearanceSpan  Saved. 5 Pages\n",
      "ParentPLUSBorrowerDefermentSpan  Saved. 5 Pages\n",
      "FalseCertificationofAbilitytoBenefitDischarge Saved. 5 Pages\n",
      "CancerTreatmentDeferment Saved. 3 Pages\n",
      "TemporaryTotalDisabilityDefermentSpan  Saved. 5 Pages\n",
      "Forgery Saved. 7 Pages\n",
      "FalseCertificationUnauthorizedSignatureDischarge Saved. 4 Pages\n",
      "MilitaryServiceandPostActiveDutyStudentDeferment Saved. 6 Pages\n",
      "GraduateFellowshipDeferment  Saved. 4 Pages\n",
      "InSchoolDefermentSpan  Saved. 5 Pages\n",
      "StudentLoanDebtBurdenForbearance Saved. 4 Pages\n",
      "EconomicHardshipDefermentSpan  Saved. 6 Pages\n",
      "Consolidation Saved. 16 Pages\n",
      "InSchoolDeferment Saved. 4 Pages\n",
      "RehabilitationTrainingDefermentSpan  Saved. 5 Pages\n",
      "SERVICEMEMBERSCIVILRELIEFACTSCRAINTERESTRATELIMITATIONREQUEST Saved. 4 Pages\n",
      "RehabilitationTrainingDeferment Saved. 4 Pages\n",
      "EconomicHardshipDeferment Saved. 4 Pages\n",
      "Reaffirmation Saved. 3 Pages\n",
      "UnemploymentDeferment Saved. 4 Pages\n",
      "GraduateFellowshipDefermentSpan Saved. 6 Pages\n",
      "RepaymentPlanRequest Saved. 3 Pages\n",
      "TotalandPermanentDisabilityPostDischargeMonitoring Saved. 4 Pages\n",
      "UnpaidRefundDischarge Saved. 4 Pages\n",
      "SchoolClosureDischarge Saved. 5 Pages\n",
      "GeneralForbearance Saved. 4 Pages\n",
      "TeacherLoanForgiveness Saved. 8 Pages\n",
      "GeneralForbearanceSpan  Saved. 4 Pages\n",
      "TemporaryTotalDisabilityDeferment Saved. 4 Pages\n",
      "TotalandPermanentDisabilityApplicantRepresentativeDesignation Saved. 3 Pages\n",
      "ConsolidationSpan  Saved. 20 Pages\n",
      "MedicalorDentalInternshipResidencyNationalGuardandDoDStudentLoanRepaymentSpan  Saved. 6 Pages\n"
     ]
    }
   ],
   "source": [
    "directory = 'templates_pdf'\n",
    "dest_dir = 'templates_img'\n",
    "\n",
    "for filename in os.listdir(directory):\n",
    "    images = convert_from_path('templates_pdf/'+filename)\n",
    "    filename = filename.split('(')[0].split('.')[0]\n",
    "    for i in range(len(images)):\n",
    "        images[i].save(dest_dir+'/'+ filename+'_' +str(i) +'.jpg', 'JPEG')\n",
    "    print(f'{filename} Saved. {len(images)} Pages')"
   ]
  },
  {
   "cell_type": "markdown",
   "metadata": {},
   "source": [
    "### Resize Images"
   ]
  },
  {
   "cell_type": "code",
   "execution_count": 11,
   "metadata": {},
   "outputs": [],
   "source": [
    "import cv2\n",
    "\n",
    "for filename in os.listdir(dest_dir):\n",
    "\timg = cv2.imread(dest_dir+'/'+filename, 1)\n",
    "\timg = cv2.resize(img, (850, 1100))  \n",
    "\timg.tofile()\n",
    "    "
   ]
  },
  {
   "cell_type": "markdown",
   "metadata": {},
   "source": [
    "### Add Filenames to json for text locations"
   ]
  },
  {
   "cell_type": "code",
   "execution_count": 8,
   "metadata": {},
   "outputs": [],
   "source": [
    "import json\n",
    "\n",
    "file = open('text_locations.json','w')\n",
    "\n",
    "locations = {}\n",
    "\n",
    "for filename in os.listdir(dest_dir):\n",
    "    locations[filename] = {}\n",
    "\n",
    "json.dump(locations, file)\n",
    "file.close()\n"
   ]
  }
 ],
 "metadata": {
  "kernelspec": {
   "display_name": "Python 3.10.4 ('classification')",
   "language": "python",
   "name": "python3"
  },
  "language_info": {
   "codemirror_mode": {
    "name": "ipython",
    "version": 3
   },
   "file_extension": ".py",
   "mimetype": "text/x-python",
   "name": "python",
   "nbconvert_exporter": "python",
   "pygments_lexer": "ipython3",
   "version": "3.10.5"
  },
  "orig_nbformat": 4,
  "vscode": {
   "interpreter": {
    "hash": "5f0e1bddb7ed37f67f576e4a6a21b2408ebab9a006050dc6d038d31036c144c3"
   }
  }
 },
 "nbformat": 4,
 "nbformat_minor": 2
}
